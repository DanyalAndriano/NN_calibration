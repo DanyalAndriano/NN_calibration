{
 "cells": [
  {
   "cell_type": "markdown",
   "metadata": {},
   "source": [
    "# Temperature Scaling"
   ]
  },
  {
   "cell_type": "markdown",
   "metadata": {},
   "source": [
    "Testing calibration method on neural networks on image data."
   ]
  },
  {
   "cell_type": "code",
   "execution_count": 29,
   "metadata": {},
   "outputs": [],
   "source": [
    "from sklearn.metrics import log_loss\n",
    "from keras.losses import categorical_crossentropy\n",
    "from scipy.optimize import minimize \n",
    "import numpy as np\n",
    "from utility.unpickle_probs import unpickle_probs\n",
    "from utility.calibration import ECE, MCE\n",
    "from os.path import join\n",
    "import sklearn.metrics as metrics\n"
   ]
  },
  {
   "cell_type": "markdown",
   "metadata": {},
   "source": [
    "## Load in Data"
   ]
  },
  {
   "cell_type": "code",
   "execution_count": 117,
   "metadata": {},
   "outputs": [
    {
     "name": "stdout",
     "output_type": "stream",
     "text": [
      "y_probs_val: (5000, 100)\n",
      "y_true_val: (5000, 1)\n",
      "y_probs_test: (10000, 100)\n",
      "y_true_test: (10000, 1)\n"
     ]
    }
   ],
   "source": [
    "PATH = join('..', '..', 'Semester IV', 'NN_image_probs')\n",
    "files = ('probs_resnet110_c100_logits.p')\n",
    "\n",
    "#(y_probs_val, y_val), (y_probs_test, y_test) = unpickle_probs(FILE_PATH, True)\n",
    "(y_logits_val, y_val), (y_logits_test, y_test) = unpickle_probs(FILE_PATH, True)\n"
   ]
  },
  {
   "cell_type": "markdown",
   "metadata": {},
   "source": [
    "### Check out the Negative Log Likelihood (NLL)."
   ]
  },
  {
   "cell_type": "code",
   "execution_count": 120,
   "metadata": {
    "collapsed": true
   },
   "outputs": [],
   "source": [
    "y_probs_val = softmax(y_logits_val)\n",
    "y_probs_test = softmax(y_logits_test)"
   ]
  },
  {
   "cell_type": "markdown",
   "metadata": {},
   "source": [
    "### Sklearn method"
   ]
  },
  {
   "cell_type": "code",
   "execution_count": 173,
   "metadata": {},
   "outputs": [
    {
     "data": {
      "text/plain": [
       "1.999253023824082"
      ]
     },
     "execution_count": 173,
     "metadata": {},
     "output_type": "execute_result"
    }
   ],
   "source": [
    "log_loss(y_true=y_val, y_pred=y_probs_val)"
   ]
  },
  {
   "cell_type": "code",
   "execution_count": 174,
   "metadata": {},
   "outputs": [
    {
     "data": {
      "text/plain": [
       "2.6449219236379986"
      ]
     },
     "execution_count": 174,
     "metadata": {},
     "output_type": "execute_result"
    }
   ],
   "source": [
    "log_loss(y_true=y_test, y_pred=y_probs_test)"
   ]
  },
  {
   "cell_type": "markdown",
   "metadata": {},
   "source": [
    "The NLL is different from the actual output for some reason. Look more into it."
   ]
  },
  {
   "cell_type": "markdown",
   "metadata": {},
   "source": [
    "## Temperature Scaling"
   ]
  },
  {
   "cell_type": "code",
   "execution_count": 76,
   "metadata": {
    "collapsed": true
   },
   "outputs": [],
   "source": [
    "def temp_scale(y_probs, x):\n",
    "    return y_probs/x"
   ]
  },
  {
   "cell_type": "code",
   "execution_count": 122,
   "metadata": {
    "collapsed": true
   },
   "outputs": [],
   "source": [
    "def loss(x, y_probs, y_true):\n",
    "    scaled_probs = softmax(temp_scale(y_probs, x))    \n",
    "    loss = log_loss(y_true=y_true, y_pred=scaled_probs)\n",
    "    \n",
    "    return loss"
   ]
  },
  {
   "cell_type": "code",
   "execution_count": 127,
   "metadata": {},
   "outputs": [],
   "source": [
    "opt = minimize(loss, x0 = 0.1, args=(y_logits_val, y_val), options={'maxiter':50}, method = \"BFGS\")"
   ]
  },
  {
   "cell_type": "code",
   "execution_count": 128,
   "metadata": {},
   "outputs": [
    {
     "data": {
      "text/plain": [
       "      fun: 1.0636127548289283\n",
       " hess_inv: array([[ 64.640641]])\n",
       "      jac: array([  8.19563866e-07])\n",
       "  message: 'Optimization terminated successfully.'\n",
       "     nfev: 30\n",
       "      nit: 2\n",
       "     njev: 10\n",
       "   status: 0\n",
       "  success: True\n",
       "        x: array([ 2.31021816])"
      ]
     },
     "execution_count": 128,
     "metadata": {},
     "output_type": "execute_result"
    }
   ],
   "source": [
    "opt"
   ]
  },
  {
   "cell_type": "code",
   "execution_count": 80,
   "metadata": {
    "collapsed": true
   },
   "outputs": [],
   "source": [
    "def evaluate(y_probs, y_true, verbose = False, bins = 15):\n",
    "    \n",
    "    y_preds = np.argmax(y_probs, axis=1)  # Take maximum confidence as prediction\n",
    "    y_confs = np.max(y_probs, axis=1)  # Take only maximum confidence\n",
    "    \n",
    "    accuracy = metrics.accuracy_score(y_true, y_preds) * 100\n",
    "    error = 100 - accuracy\n",
    "    \n",
    "        # Calculate ECE\n",
    "    ece = ECE(y_confs, y_preds, y_true, bin_size = 1/bins)\n",
    "    # Calculate MCE\n",
    "    mce = MCE(y_confs, y_preds, y_true, bin_size = 1/bins)\n",
    "    \n",
    "    if verbose:\n",
    "        print(\"Accuracy:\", accuracy)\n",
    "        print(\"Error:\", error)\n",
    "        print(\"ECE:\", ece)\n",
    "        print(\"MCE:\", mce)"
   ]
  },
  {
   "cell_type": "code",
   "execution_count": 130,
   "metadata": {},
   "outputs": [
    {
     "data": {
      "text/plain": [
       "1.0916913444706431"
      ]
     },
     "execution_count": 130,
     "metadata": {},
     "output_type": "execute_result"
    }
   ],
   "source": [
    "temp = 2.31021816\n",
    "log_loss(y_true=y_test, y_pred=softmax(temp_scale(y_logits_test, temp)))"
   ]
  },
  {
   "cell_type": "code",
   "execution_count": 171,
   "metadata": {},
   "outputs": [
    {
     "name": "stdout",
     "output_type": "stream",
     "text": [
      "Accuracy: 71.48\n",
      "Error: 28.52\n",
      "ECE: 0.184804543945\n",
      "MCE: 0.398817125148\n"
     ]
    }
   ],
   "source": [
    "evaluate(softmax(y_logits_test), y_test, verbose=True)"
   ]
  },
  {
   "cell_type": "code",
   "execution_count": 172,
   "metadata": {},
   "outputs": [
    {
     "name": "stdout",
     "output_type": "stream",
     "text": [
      "Accuracy: 71.48\n",
      "Error: 28.52\n",
      "ECE: 0.0237969729677\n",
      "MCE: 0.0709915722652\n"
     ]
    }
   ],
   "source": [
    "evaluate(softmax(temp_scale(y_logits_test, temp)), y_test, verbose=True)"
   ]
  },
  {
   "cell_type": "code",
   "execution_count": 168,
   "metadata": {
    "collapsed": true
   },
   "outputs": [],
   "source": [
    "def softmax(x):\n",
    "    \"\"\"Compute softmax values for each sets of scores in x.\"\"\"\n",
    "    e_x = np.exp(x - np.max(x))\n",
    "    return e_x / e_x.sum(axis=1, keepdims=1)"
   ]
  },
  {
   "cell_type": "code",
   "execution_count": null,
   "metadata": {
    "collapsed": true
   },
   "outputs": [],
   "source": []
  }
 ],
 "metadata": {
  "kernelspec": {
   "display_name": "Python 3",
   "language": "python",
   "name": "python3"
  },
  "language_info": {
   "codemirror_mode": {
    "name": "ipython",
    "version": 3
   },
   "file_extension": ".py",
   "mimetype": "text/x-python",
   "name": "python",
   "nbconvert_exporter": "python",
   "pygments_lexer": "ipython3",
   "version": "3.6.1"
  }
 },
 "nbformat": 4,
 "nbformat_minor": 2
}
