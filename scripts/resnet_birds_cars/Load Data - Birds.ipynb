{
 "cells": [
  {
   "cell_type": "code",
   "execution_count": 1,
   "metadata": {},
   "outputs": [],
   "source": [
    "import scipy.io\n",
    "import numpy as np\n",
    "import pickle\n",
    "from os import listdir\n",
    "from os.path import isfile, join\n",
    "from PIL import Image"
   ]
  },
  {
   "cell_type": "code",
   "execution_count": 2,
   "metadata": {
    "collapsed": true
   },
   "outputs": [],
   "source": [
    "labels_path = '../data/data_birds/CUB_200_2011/image_class_labels.txt'\n",
    "train_test_split_path = '../data/data_birds/CUB_200_2011/train_test_split.txt'\n",
    "\n",
    "data_path = '../data/data_birds/CUB_200_2011/images/'"
   ]
  },
  {
   "cell_type": "markdown",
   "metadata": {},
   "source": [
    "### Get test and train labels"
   ]
  },
  {
   "cell_type": "code",
   "execution_count": 3,
   "metadata": {},
   "outputs": [],
   "source": [
    "# First get all the labels\n",
    "labels = np.loadtxt(fname=labels_path, dtype=\"int16\")\n",
    "\n",
    "y_labels = labels[:,1]"
   ]
  },
  {
   "cell_type": "code",
   "execution_count": 4,
   "metadata": {},
   "outputs": [],
   "source": [
    "# Secondly get train test split of images and labels\n",
    "\n",
    "train_test_split = np.loadtxt(fname=train_test_split_path, dtype=\"int16\")\n",
    "train_test_split = train_test_split[:, 1]"
   ]
  },
  {
   "cell_type": "code",
   "execution_count": 5,
   "metadata": {},
   "outputs": [],
   "source": [
    "# Get train and test indices\n",
    "train_idxs = np.where(train_test_split == 1)[0]\n",
    "test_idxs = np.where(train_test_split == 0)[0]"
   ]
  },
  {
   "cell_type": "code",
   "execution_count": 6,
   "metadata": {},
   "outputs": [
    {
     "name": "stdout",
     "output_type": "stream",
     "text": [
      "[1 3 4 6 7]\n"
     ]
    },
    {
     "data": {
      "text/plain": [
       "array([ 0,  2,  5,  9, 11], dtype=int64)"
      ]
     },
     "execution_count": 6,
     "metadata": {},
     "output_type": "execute_result"
    }
   ],
   "source": [
    "print(train_idxs[:5])\n",
    "test_idxs[:5]"
   ]
  },
  {
   "cell_type": "code",
   "execution_count": 7,
   "metadata": {},
   "outputs": [
    {
     "data": {
      "text/plain": [
       "(5994,)"
      ]
     },
     "execution_count": 7,
     "metadata": {},
     "output_type": "execute_result"
    }
   ],
   "source": [
    "train_idxs.shape"
   ]
  },
  {
   "cell_type": "code",
   "execution_count": 8,
   "metadata": {},
   "outputs": [
    {
     "data": {
      "text/plain": [
       "(5794,)"
      ]
     },
     "execution_count": 8,
     "metadata": {},
     "output_type": "execute_result"
    }
   ],
   "source": [
    "test_idxs.shape"
   ]
  },
  {
   "cell_type": "code",
   "execution_count": 9,
   "metadata": {},
   "outputs": [],
   "source": [
    "y_train = y_labels[train_idxs]\n",
    "y_test = y_labels[test_idxs]"
   ]
  },
  {
   "cell_type": "code",
   "execution_count": 10,
   "metadata": {},
   "outputs": [
    {
     "data": {
      "text/plain": [
       "Counter({1: 30,\n",
       "         2: 30,\n",
       "         3: 28,\n",
       "         4: 30,\n",
       "         5: 14,\n",
       "         6: 11,\n",
       "         7: 23,\n",
       "         8: 18,\n",
       "         9: 29,\n",
       "         10: 30,\n",
       "         11: 30,\n",
       "         12: 26,\n",
       "         13: 30,\n",
       "         14: 30,\n",
       "         15: 28,\n",
       "         16: 28,\n",
       "         17: 27,\n",
       "         18: 15,\n",
       "         19: 29,\n",
       "         20: 29,\n",
       "         21: 30,\n",
       "         22: 26,\n",
       "         23: 29,\n",
       "         24: 22,\n",
       "         25: 30,\n",
       "         26: 30,\n",
       "         27: 30,\n",
       "         28: 29,\n",
       "         29: 30,\n",
       "         30: 30,\n",
       "         31: 30,\n",
       "         32: 23,\n",
       "         33: 29,\n",
       "         34: 29,\n",
       "         35: 30,\n",
       "         36: 30,\n",
       "         37: 29,\n",
       "         38: 30,\n",
       "         39: 29,\n",
       "         40: 30,\n",
       "         41: 30,\n",
       "         42: 30,\n",
       "         43: 29,\n",
       "         44: 30,\n",
       "         45: 30,\n",
       "         46: 30,\n",
       "         47: 30,\n",
       "         48: 30,\n",
       "         49: 30,\n",
       "         50: 30,\n",
       "         51: 30,\n",
       "         52: 30,\n",
       "         53: 30,\n",
       "         54: 30,\n",
       "         55: 30,\n",
       "         56: 30,\n",
       "         57: 30,\n",
       "         58: 28,\n",
       "         59: 30,\n",
       "         60: 29,\n",
       "         61: 30,\n",
       "         62: 30,\n",
       "         63: 30,\n",
       "         64: 30,\n",
       "         65: 20,\n",
       "         66: 30,\n",
       "         67: 30,\n",
       "         68: 30,\n",
       "         69: 30,\n",
       "         70: 30,\n",
       "         71: 30,\n",
       "         72: 30,\n",
       "         73: 30,\n",
       "         74: 30,\n",
       "         75: 27,\n",
       "         76: 30,\n",
       "         77: 30,\n",
       "         78: 29,\n",
       "         79: 30,\n",
       "         80: 30,\n",
       "         81: 30,\n",
       "         82: 30,\n",
       "         83: 30,\n",
       "         84: 23,\n",
       "         85: 30,\n",
       "         86: 30,\n",
       "         87: 30,\n",
       "         88: 30,\n",
       "         89: 30,\n",
       "         90: 30,\n",
       "         91: 30,\n",
       "         92: 30,\n",
       "         93: 30,\n",
       "         94: 30,\n",
       "         95: 30,\n",
       "         96: 30,\n",
       "         97: 29,\n",
       "         98: 30,\n",
       "         99: 30,\n",
       "         100: 30,\n",
       "         101: 20,\n",
       "         102: 30,\n",
       "         103: 30,\n",
       "         104: 30,\n",
       "         105: 19,\n",
       "         106: 30,\n",
       "         107: 30,\n",
       "         108: 30,\n",
       "         109: 30,\n",
       "         110: 30,\n",
       "         111: 30,\n",
       "         112: 30,\n",
       "         113: 20,\n",
       "         114: 30,\n",
       "         115: 29,\n",
       "         116: 30,\n",
       "         117: 29,\n",
       "         118: 30,\n",
       "         119: 29,\n",
       "         120: 30,\n",
       "         121: 30,\n",
       "         122: 30,\n",
       "         123: 30,\n",
       "         124: 29,\n",
       "         125: 29,\n",
       "         126: 30,\n",
       "         127: 30,\n",
       "         128: 30,\n",
       "         129: 30,\n",
       "         130: 30,\n",
       "         131: 30,\n",
       "         132: 30,\n",
       "         133: 30,\n",
       "         134: 30,\n",
       "         135: 30,\n",
       "         136: 30,\n",
       "         137: 30,\n",
       "         138: 30,\n",
       "         139: 30,\n",
       "         140: 30,\n",
       "         141: 29,\n",
       "         142: 30,\n",
       "         143: 30,\n",
       "         144: 30,\n",
       "         145: 30,\n",
       "         146: 30,\n",
       "         147: 30,\n",
       "         148: 30,\n",
       "         149: 29,\n",
       "         150: 30,\n",
       "         151: 21,\n",
       "         152: 30,\n",
       "         153: 29,\n",
       "         154: 30,\n",
       "         155: 30,\n",
       "         156: 30,\n",
       "         157: 29,\n",
       "         158: 30,\n",
       "         159: 30,\n",
       "         160: 29,\n",
       "         161: 30,\n",
       "         162: 30,\n",
       "         163: 30,\n",
       "         164: 30,\n",
       "         165: 30,\n",
       "         166: 29,\n",
       "         167: 30,\n",
       "         168: 29,\n",
       "         169: 29,\n",
       "         170: 30,\n",
       "         171: 30,\n",
       "         172: 30,\n",
       "         173: 30,\n",
       "         174: 30,\n",
       "         175: 30,\n",
       "         176: 30,\n",
       "         177: 30,\n",
       "         178: 26,\n",
       "         179: 29,\n",
       "         180: 30,\n",
       "         181: 29,\n",
       "         182: 30,\n",
       "         183: 30,\n",
       "         184: 30,\n",
       "         185: 30,\n",
       "         186: 30,\n",
       "         187: 20,\n",
       "         188: 30,\n",
       "         189: 30,\n",
       "         190: 29,\n",
       "         191: 30,\n",
       "         192: 30,\n",
       "         193: 30,\n",
       "         194: 30,\n",
       "         195: 30,\n",
       "         196: 30,\n",
       "         197: 30,\n",
       "         198: 30,\n",
       "         199: 30,\n",
       "         200: 30})"
      ]
     },
     "execution_count": 10,
     "metadata": {},
     "output_type": "execute_result"
    }
   ],
   "source": [
    "from collections import Counter\n",
    "\n",
    "Counter(y_test)"
   ]
  },
  {
   "cell_type": "code",
   "execution_count": 11,
   "metadata": {},
   "outputs": [
    {
     "data": {
      "text/plain": [
       "(5794,)"
      ]
     },
     "execution_count": 11,
     "metadata": {},
     "output_type": "execute_result"
    }
   ],
   "source": [
    "y_test.shape"
   ]
  },
  {
   "cell_type": "markdown",
   "metadata": {},
   "source": [
    "### Load in images as numpy array"
   ]
  },
  {
   "cell_type": "code",
   "execution_count": 12,
   "metadata": {
    "collapsed": true
   },
   "outputs": [],
   "source": [
    "# First get folders\n",
    "# data_path\n",
    "folders = listdir(data_path)  # TODO check is folder\n",
    "imgs = []"
   ]
  },
  {
   "cell_type": "code",
   "execution_count": 13,
   "metadata": {},
   "outputs": [],
   "source": [
    "for folder in folders:  \n",
    "    path = data_path + folder + \"/\"\n",
    "    \n",
    "    # TODO load in images\n",
    "    imgs.extend([join(path, f) for f in listdir(path) if isfile(join(path, f))])"
   ]
  },
  {
   "cell_type": "code",
   "execution_count": 14,
   "metadata": {},
   "outputs": [],
   "source": [
    "imgs = np.array(imgs)"
   ]
  },
  {
   "cell_type": "code",
   "execution_count": 15,
   "metadata": {},
   "outputs": [
    {
     "data": {
      "text/plain": [
       "(11788,)"
      ]
     },
     "execution_count": 15,
     "metadata": {},
     "output_type": "execute_result"
    }
   ],
   "source": [
    "imgs.shape"
   ]
  },
  {
   "cell_type": "code",
   "execution_count": 16,
   "metadata": {},
   "outputs": [
    {
     "data": {
      "text/plain": [
       "array([ '../data/data_birds/CUB_200_2011/images/001.Black_footed_Albatross/Black_Footed_Albatross_0001_796111.jpg',\n",
       "       '../data/data_birds/CUB_200_2011/images/001.Black_footed_Albatross/Black_Footed_Albatross_0002_55.jpg',\n",
       "       '../data/data_birds/CUB_200_2011/images/001.Black_footed_Albatross/Black_Footed_Albatross_0003_796136.jpg',\n",
       "       ...,\n",
       "       '../data/data_birds/CUB_200_2011/images/200.Common_Yellowthroat/Common_Yellowthroat_0122_190570.jpg',\n",
       "       '../data/data_birds/CUB_200_2011/images/200.Common_Yellowthroat/Common_Yellowthroat_0125_190902.jpg',\n",
       "       '../data/data_birds/CUB_200_2011/images/200.Common_Yellowthroat/Common_Yellowthroat_0126_190407.jpg'],\n",
       "      dtype='<U120')"
      ]
     },
     "execution_count": 16,
     "metadata": {},
     "output_type": "execute_result"
    }
   ],
   "source": [
    "imgs[:]"
   ]
  },
  {
   "cell_type": "code",
   "execution_count": 17,
   "metadata": {
    "collapsed": true
   },
   "outputs": [],
   "source": [
    "train_imgs = imgs[train_idxs]\n",
    "test_imgs = imgs[test_idxs]"
   ]
  },
  {
   "cell_type": "code",
   "execution_count": 18,
   "metadata": {},
   "outputs": [
    {
     "data": {
      "text/plain": [
       "(5994,)"
      ]
     },
     "execution_count": 18,
     "metadata": {},
     "output_type": "execute_result"
    }
   ],
   "source": [
    "train_imgs.shape"
   ]
  },
  {
   "cell_type": "code",
   "execution_count": 19,
   "metadata": {},
   "outputs": [
    {
     "data": {
      "text/plain": [
       "(5794,)"
      ]
     },
     "execution_count": 19,
     "metadata": {},
     "output_type": "execute_result"
    }
   ],
   "source": [
    "test_imgs.shape"
   ]
  },
  {
   "cell_type": "code",
   "execution_count": 20,
   "metadata": {
    "collapsed": true
   },
   "outputs": [],
   "source": [
    "def load_img(path, size = (256, 256)):\n",
    "    im = Image.open(path)\n",
    "    im = im.resize(size, Image.ANTIALIAS)\n",
    "    rgb_im = im.convert('RGB')  # Some imageses are in Grayscale\n",
    "    return np.array(rgb_im)\n",
    "\n",
    "def center_crop(img_mat, size = (224, 224)):\n",
    "    w,h,c = img_mat.shape\n",
    "    start_h = h//2-(size[1]//2)  # Size[1] - h of cropped image\n",
    "    start_w = w//2-(size[0]//2)  # Size[0] - w of cropepd image\n",
    "    return img_mat[start_w:start_w+size[0],start_h:start_h+size[1], :]"
   ]
  },
  {
   "cell_type": "code",
   "execution_count": 21,
   "metadata": {},
   "outputs": [],
   "source": [
    "# Fill in x_train array with train data\n",
    "len_train = len(train_imgs)\n",
    "\n",
    "size = (256,256)\n",
    "x_train = np.empty((len_train, 256, 256, 3), dtype=\"float32\")\n",
    "\n",
    "for i, img_path in enumerate(train_imgs):\n",
    "    x_train[i] = load_img(img_path, size = size)"
   ]
  },
  {
   "cell_type": "code",
   "execution_count": 23,
   "metadata": {},
   "outputs": [
    {
     "data": {
      "text/plain": [
       "(5994, 256, 256, 3)"
      ]
     },
     "execution_count": 23,
     "metadata": {},
     "output_type": "execute_result"
    }
   ],
   "source": [
    "x_train.shape"
   ]
  },
  {
   "cell_type": "code",
   "execution_count": 22,
   "metadata": {},
   "outputs": [
    {
     "ename": "NameError",
     "evalue": "name 'len_test' is not defined",
     "output_type": "error",
     "traceback": [
      "\u001b[1;31m---------------------------------------------------------------------------\u001b[0m",
      "\u001b[1;31mNameError\u001b[0m                                 Traceback (most recent call last)",
      "\u001b[1;32m<ipython-input-22-5433a612ee51>\u001b[0m in \u001b[0;36m<module>\u001b[1;34m()\u001b[0m\n\u001b[0;32m      4\u001b[0m \u001b[0msize\u001b[0m \u001b[1;33m=\u001b[0m \u001b[1;33m(\u001b[0m\u001b[1;36m256\u001b[0m\u001b[1;33m,\u001b[0m \u001b[1;36m256\u001b[0m\u001b[1;33m)\u001b[0m\u001b[1;33m\u001b[0m\u001b[0m\n\u001b[0;32m      5\u001b[0m \u001b[1;33m\u001b[0m\u001b[0m\n\u001b[1;32m----> 6\u001b[1;33m \u001b[0mx_test\u001b[0m \u001b[1;33m=\u001b[0m \u001b[0mnp\u001b[0m\u001b[1;33m.\u001b[0m\u001b[0mempty\u001b[0m\u001b[1;33m(\u001b[0m\u001b[1;33m(\u001b[0m\u001b[0mlen_test\u001b[0m\u001b[1;33m,\u001b[0m \u001b[1;36m224\u001b[0m\u001b[1;33m,\u001b[0m \u001b[1;36m224\u001b[0m\u001b[1;33m,\u001b[0m \u001b[1;36m3\u001b[0m\u001b[1;33m)\u001b[0m\u001b[1;33m,\u001b[0m \u001b[0mdtype\u001b[0m\u001b[1;33m=\u001b[0m\u001b[1;34m\"float32\"\u001b[0m\u001b[1;33m)\u001b[0m\u001b[1;33m\u001b[0m\u001b[0m\n\u001b[0m\u001b[0;32m      7\u001b[0m \u001b[1;33m\u001b[0m\u001b[0m\n\u001b[0;32m      8\u001b[0m \u001b[1;33m\u001b[0m\u001b[0m\n",
      "\u001b[1;31mNameError\u001b[0m: name 'len_test' is not defined"
     ]
    }
   ],
   "source": [
    "# Fill in x_test array with test data\n",
    "\n",
    "size_crop = (224, 224)\n",
    "size = (256, 256)\n",
    "\n",
    "len_test = len(test_imgs)\n",
    "\n",
    "x_test = np.empty((len_test, 224, 224, 3), dtype=\"float32\")\n",
    "\n",
    "\n",
    "for i, img_path in enumerate(test_imgs):    \n",
    "    img_mat = load_img(test_data_path + img_path, size = size)  # First scale to (256,256)\n",
    "    x_test[i] = center_crop(img_mat, size = size_crop)  # Crop center of the image\n"
   ]
  },
  {
   "cell_type": "code",
   "execution_count": null,
   "metadata": {},
   "outputs": [],
   "source": [
    "x_test.shape"
   ]
  },
  {
   "cell_type": "code",
   "execution_count": null,
   "metadata": {},
   "outputs": [],
   "source": [
    "1 - 224/256  # 0.125 crop"
   ]
  },
  {
   "cell_type": "code",
   "execution_count": null,
   "metadata": {
    "collapsed": true
   },
   "outputs": [],
   "source": [
    "\n",
    "    return ((x_train, y_train), (x_test, y_test))"
   ]
  }
 ],
 "metadata": {
  "kernelspec": {
   "display_name": "Python 3",
   "language": "python",
   "name": "python3"
  },
  "language_info": {
   "codemirror_mode": {
    "name": "ipython",
    "version": 3
   },
   "file_extension": ".py",
   "mimetype": "text/x-python",
   "name": "python",
   "nbconvert_exporter": "python",
   "pygments_lexer": "ipython3",
   "version": "3.6.1"
  }
 },
 "nbformat": 4,
 "nbformat_minor": 2
}
