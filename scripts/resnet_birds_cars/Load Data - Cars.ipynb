{
 "cells": [
  {
   "cell_type": "code",
   "execution_count": 11,
   "metadata": {
    "collapsed": true
   },
   "outputs": [],
   "source": [
    "import scipy.io\n",
    "import numpy as np\n",
    "import pickle\n",
    "from os import listdir\n",
    "from os.path import isfile, join\n",
    "from PIL import Image"
   ]
  },
  {
   "cell_type": "code",
   "execution_count": 3,
   "metadata": {
    "collapsed": true
   },
   "outputs": [],
   "source": [
    "test_labels = scipy.io.loadmat('../data/data_cars/cars_test_annos_labels.mat')\n",
    "train_labels = scipy.io.loadmat('../data/data_cars/cars_train_annos.mat')\n",
    "\n",
    "train_data_path = \"../data/data_cars/cars_train/\"\n",
    "test_data_path = \"../data/data_cars/cars_test/\""
   ]
  },
  {
   "cell_type": "code",
   "execution_count": 4,
   "metadata": {},
   "outputs": [
    {
     "data": {
      "text/plain": [
       "dict_keys(['__header__', '__version__', '__globals__', 'annotations'])"
      ]
     },
     "execution_count": 4,
     "metadata": {},
     "output_type": "execute_result"
    }
   ],
   "source": [
    "test_labels.keys()"
   ]
  },
  {
   "cell_type": "code",
   "execution_count": 5,
   "metadata": {},
   "outputs": [],
   "source": [
    "test_labels = np.array(test_labels.get('annotations'))\n",
    "train_labels = np.array(train_labels.get('annotations'))"
   ]
  },
  {
   "cell_type": "markdown",
   "metadata": {},
   "source": [
    "### Get test and train labels"
   ]
  },
  {
   "cell_type": "code",
   "execution_count": 6,
   "metadata": {},
   "outputs": [],
   "source": [
    "# Length of test and train sets\n",
    "len_test = len(test_labels[0])\n",
    "len_train = len(train_labels[0])\n",
    "\n",
    "y_test = np.empty(len_test, dtype=\"int16\")\n",
    "y_train = np.empty(len_train, dtype=\"int16\")\n",
    "\n",
    "# Test labels\n",
    "for i in range(len_test):\n",
    "    y_test[i] = test_labels[0][i][4][0][0]\n",
    "\n",
    "# Train labels\n",
    "for i in range(len_train):\n",
    "    y_train[i] = train_labels[0][i][4][0][0]"
   ]
  },
  {
   "cell_type": "code",
   "execution_count": 7,
   "metadata": {},
   "outputs": [
    {
     "data": {
      "text/plain": [
       "(8144,)"
      ]
     },
     "execution_count": 7,
     "metadata": {},
     "output_type": "execute_result"
    }
   ],
   "source": [
    "y_test.shape\n",
    "y_train.shape"
   ]
  },
  {
   "cell_type": "markdown",
   "metadata": {},
   "source": [
    "### Load in images as numpy array"
   ]
  },
  {
   "cell_type": "code",
   "execution_count": 8,
   "metadata": {
    "collapsed": true
   },
   "outputs": [],
   "source": [
    "path = train_data_path\n",
    "train_imgs = [f for f in listdir(path) if isfile(join(path, f))]\n",
    "path2 = test_data_path\n",
    "test_imgs = [f for f in listdir(path2) if isfile(join(path2, f))]"
   ]
  },
  {
   "cell_type": "code",
   "execution_count": 9,
   "metadata": {},
   "outputs": [
    {
     "data": {
      "text/plain": [
       "['00001.jpg', '00002.jpg', '00003.jpg', '00004.jpg', '00005.jpg']"
      ]
     },
     "execution_count": 9,
     "metadata": {},
     "output_type": "execute_result"
    }
   ],
   "source": [
    "train_imgs[:5]"
   ]
  },
  {
   "cell_type": "code",
   "execution_count": 10,
   "metadata": {},
   "outputs": [
    {
     "data": {
      "text/plain": [
       "8041"
      ]
     },
     "execution_count": 10,
     "metadata": {},
     "output_type": "execute_result"
    }
   ],
   "source": [
    "len(test_imgs)"
   ]
  },
  {
   "cell_type": "code",
   "execution_count": 16,
   "metadata": {},
   "outputs": [],
   "source": [
    "from PIL import Image\n",
    "\n",
    "def load_img(path, size = (256, 256)):\n",
    "    im = Image.open(path)\n",
    "    im = im.resize(size, Image.ANTIALIAS)\n",
    "    rgb_im = im.convert('RGB')  # Some imageses are in Grayscale\n",
    "    return np.array(rgb_im)\n",
    "\n",
    "def center_crop(img_mat, size = (224, 224)):\n",
    "    w,h,c = img_mat.shape\n",
    "    start_h = h//2-(size[1]//2)  # Size[1] - h of cropped image\n",
    "    start_w = w//2-(size[0]//2)  # Size[0] - w of cropepd image\n",
    "    return img_mat[start_w:start_w+size[0],start_h:start_h+size[1], :]"
   ]
  },
  {
   "cell_type": "code",
   "execution_count": null,
   "metadata": {
    "collapsed": true
   },
   "outputs": [],
   "source": [
    "# Fill in x_train array with train data\n",
    "\n",
    "size = (256,256)\n",
    "x_train = np.empty((len_train, 256, 256, 3), dtype=\"float32\")\n",
    "\n",
    "for i, img_path in enumerate(train_imgs):\n",
    "    x_train[i] = load_img(train_data_path + img_path, size = size)"
   ]
  },
  {
   "cell_type": "code",
   "execution_count": 21,
   "metadata": {},
   "outputs": [],
   "source": [
    "# Fill in x_test array with test data\n",
    "\n",
    "size_crop = (224, 224)\n",
    "size = (256, 256)\n",
    "\n",
    "x_test = np.empty((len_test, 224, 224, 3), dtype=\"float32\")\n",
    "\n",
    "\n",
    "for i, img_path in enumerate(test_imgs):    \n",
    "    img_mat = load_img(test_data_path + img_path, size = size)  # First scale to (256,256)\n",
    "    x_test[i] = center_crop(img_mat, size = size_crop)  # Crop center of the image\n"
   ]
  },
  {
   "cell_type": "code",
   "execution_count": 23,
   "metadata": {},
   "outputs": [
    {
     "data": {
      "text/plain": [
       "(8041, 224, 224, 3)"
      ]
     },
     "execution_count": 23,
     "metadata": {},
     "output_type": "execute_result"
    }
   ],
   "source": [
    "x_test.shape"
   ]
  },
  {
   "cell_type": "code",
   "execution_count": 22,
   "metadata": {},
   "outputs": [
    {
     "data": {
      "text/plain": [
       "0.125"
      ]
     },
     "execution_count": 22,
     "metadata": {},
     "output_type": "execute_result"
    }
   ],
   "source": [
    "1 - 224/256  # 0.125 crop"
   ]
  },
  {
   "cell_type": "code",
   "execution_count": null,
   "metadata": {
    "collapsed": true
   },
   "outputs": [],
   "source": []
  }
 ],
 "metadata": {
  "kernelspec": {
   "display_name": "Python 3",
   "language": "python",
   "name": "python3"
  },
  "language_info": {
   "codemirror_mode": {
    "name": "ipython",
    "version": 3
   },
   "file_extension": ".py",
   "mimetype": "text/x-python",
   "name": "python",
   "nbconvert_exporter": "python",
   "pygments_lexer": "ipython3",
   "version": "3.6.1"
  }
 },
 "nbformat": 4,
 "nbformat_minor": 2
}
