{
 "cells": [
  {
   "cell_type": "markdown",
   "metadata": {},
   "source": [
    "## Test ImageNet models preprocessing"
   ]
  },
  {
   "cell_type": "markdown",
   "metadata": {},
   "source": [
    "### First load in the model"
   ]
  },
  {
   "cell_type": "code",
   "execution_count": 3,
   "metadata": {},
   "outputs": [
    {
     "name": "stderr",
     "output_type": "stream",
     "text": [
      "Using TensorFlow backend.\n"
     ]
    }
   ],
   "source": [
    "# Imports\n",
    "import numpy as np\n",
    "   \n",
    "from keras.optimizers import SGD\n",
    "from densenet161 import DenseNet \n",
    "from load_data_imagenet import load_data_imagenet_split\n",
    "from resnet152 import resnet152_model\n",
    "import keras\n",
    "from calibration import evaluate_model\n",
    "from keras.preprocessing import image\n",
    "from keras.applications.imagenet_utils import decode_predictions\n",
    "from keras.applications.imagenet_utils import preprocess_input\n",
    "import time\n"
   ]
  },
  {
   "cell_type": "code",
   "execution_count": 7,
   "metadata": {
    "collapsed": true
   },
   "outputs": [],
   "source": [
    "# Constants (UPPERCASE)\n",
    "seed = 333\n",
    "num_classes = 1000\n",
    "weights_file_resnet = \"../../models/resnet152_weights_tf.h5\"\n",
    "weights_file_densenet = \"../../models/densenet161_weights_tf.h5\"\n",
    "MEAN = [103.939, 116.779, 123.68]\n"
   ]
  },
  {
   "cell_type": "code",
   "execution_count": 5,
   "metadata": {},
   "outputs": [
    {
     "name": "stdout",
     "output_type": "stream",
     "text": [
      "It took 39215.237 ms\n"
     ]
    }
   ],
   "source": [
    "# Load model\n",
    "time1 = time.time()\n",
    "model = resnet152_model()\n",
    "sgd = SGD(lr=1e-2, decay=1e-6, momentum=0.9, nesterov=True)\n",
    "model.compile(optimizer=sgd, loss='categorical_crossentropy', metrics=['accuracy'])\n",
    "# Load weights\n",
    "model.load_weights(weights_file_resnet, by_name=True)\n",
    "time2 = time.time()\n",
    "print('It took %0.3f ms' % ((time2-time1)*1000.0))"
   ]
  },
  {
   "cell_type": "markdown",
   "metadata": {},
   "source": [
    "### Next load in image"
   ]
  },
  {
   "cell_type": "code",
   "execution_count": 8,
   "metadata": {},
   "outputs": [
    {
     "name": "stdout",
     "output_type": "stream",
     "text": [
      "Input image shape: (1, 224, 224, 3)\n",
      "[982]\n",
      "Predicted: [[('n10148035', 'groom', 0.99997485), ('n03450230', 'gown', 2.089943e-05), ('n02883205', 'bow_tie', 1.9427303e-06), ('n03476991', 'hair_spray', 1.4953844e-06), ('n04350905', 'suit', 2.9126187e-07)]]\n",
      "It took 3044.039 ms\n"
     ]
    }
   ],
   "source": [
    "time1 = time.time()\n",
    "\n",
    "img_path = \"test_img/9.JPEG\"\n",
    "img = image.load_img(img_path, target_size=(224, 224))\n",
    "\n",
    "x = image.img_to_array(img)\n",
    "x = np.expand_dims(x, axis=0)\n",
    "#x = preprocess_input(x)\n",
    "\n",
    "x = x[..., ::-1]\n",
    "\n",
    "for i in range(3):\n",
    "    x[:,:,:,i] -= MEAN[i]\n",
    "\n",
    "print('Input image shape:', x.shape)\n",
    "\n",
    "\n",
    "preds = model.predict(x)\n",
    "print(np.argmax(preds, axis=1))\n",
    "print('Predicted:', decode_predictions(preds))\n",
    "time2 = time.time()\n",
    "print('It took %0.3f ms' % ((time2-time1)*1000.0))"
   ]
  },
  {
   "cell_type": "code",
   "execution_count": 32,
   "metadata": {},
   "outputs": [
    {
     "name": "stdout",
     "output_type": "stream",
     "text": [
      "float32\n",
      "[644]\n",
      "Predicted: [[('n03729826', 'matchstick', 0.99998772), ('n03134739', 'croquet_ball', 6.9314724e-06), ('n03970156', 'plunger', 1.2312286e-06), ('n03976657', 'pole', 1.0859825e-06), ('n03250847', 'drumstick', 6.4395869e-07)]]\n",
      "It took 2036.415 ms\n"
     ]
    }
   ],
   "source": [
    "### ImageNet loading like in Evaluation script\n",
    "\n",
    "from load_data_imagenet import load_img, center_crop\n",
    "\n",
    "time1 = time.time()\n",
    "\n",
    "img_path = \"test_img/5.JPEG\"\n",
    "img = load_img(img_path)\n",
    "img = center_crop(img)\n",
    "\n",
    "x = np.expand_dims(img, axis=0)\n",
    "x.shape\n",
    "x = np.array(x, dtype=\"float32\")\n",
    "print(x.dtype)\n",
    "\n",
    "x = x[..., ::-1]\n",
    "\n",
    "for i in range(3):\n",
    "    x[:,:,:,i] -= MEAN[i]\n",
    "    \n",
    "preds = model.predict(x)\n",
    "print(np.argmax(preds, axis=1))\n",
    "print('Predicted:', decode_predictions(preds))\n",
    "time2 = time.time()\n",
    "print('It took %0.3f ms' % ((time2-time1)*1000.0))"
   ]
  },
  {
   "cell_type": "markdown",
   "metadata": {},
   "source": [
    "### Same for DenseNet"
   ]
  },
  {
   "cell_type": "code",
   "execution_count": 158,
   "metadata": {},
   "outputs": [
    {
     "data": {
      "text/plain": [
       "(1, 224, 224, 3)"
      ]
     },
     "execution_count": 158,
     "metadata": {},
     "output_type": "execute_result"
    }
   ],
   "source": [
    "im = image.img_to_array(img)\n",
    "im = np.expand_dims(im, axis=0)\n",
    "im.shape"
   ]
  },
  {
   "cell_type": "code",
   "execution_count": 159,
   "metadata": {},
   "outputs": [
    {
     "data": {
      "text/plain": [
       "4"
      ]
     },
     "execution_count": 159,
     "metadata": {},
     "output_type": "execute_result"
    }
   ],
   "source": [
    "im.ndim"
   ]
  },
  {
   "cell_type": "code",
   "execution_count": 160,
   "metadata": {},
   "outputs": [
    {
     "name": "stdout",
     "output_type": "stream",
     "text": [
      "[[ 233.   25.   51.]]\n"
     ]
    }
   ],
   "source": [
    "print(im[:,1,1,:])"
   ]
  },
  {
   "cell_type": "code",
   "execution_count": 161,
   "metadata": {
    "collapsed": true
   },
   "outputs": [],
   "source": []
  },
  {
   "cell_type": "code",
   "execution_count": 162,
   "metadata": {},
   "outputs": [
    {
     "name": "stdout",
     "output_type": "stream",
     "text": [
      "(1, 224, 224, 3)\n",
      "[[  51.   25.  233.]]\n",
      "[[ -52.93900299  -91.77899933  109.31999969]]\n"
     ]
    }
   ],
   "source": []
  },
  {
   "cell_type": "code",
   "execution_count": 51,
   "metadata": {},
   "outputs": [
    {
     "name": "stdout",
     "output_type": "stream",
     "text": [
      "It took 35517.060 ms\n"
     ]
    }
   ],
   "source": [
    "time1 = time.time()\n",
    "model2 = DenseNet(reduction=0.5, classes=1000)\n",
    "sgd = SGD(lr=1e-2, decay=1e-6, momentum=0.9, nesterov=True)\n",
    "model2.compile(optimizer=sgd, loss='categorical_crossentropy', metrics=['accuracy'])\n",
    "model2.load_weights(weights_file_densenet, by_name=True)\n",
    "time2 = time.time()\n",
    "print('It took %0.3f ms' % ((time2-time1)*1000.0))"
   ]
  },
  {
   "cell_type": "code",
   "execution_count": 187,
   "metadata": {},
   "outputs": [
    {
     "name": "stdout",
     "output_type": "stream",
     "text": [
      "Input image shape: (1, 224, 224, 3)\n",
      "[355]\n",
      "Predicted: [[('n02437616', 'llama', 0.61203271), ('n01877812', 'wallaby', 0.13150489), ('n01882714', 'koala', 0.044381697), ('n02412080', 'ram', 0.033491764), ('n01518878', 'ostrich', 0.017572388)]]\n",
      "It took 2109.093 ms\n"
     ]
    }
   ],
   "source": [
    "time1 = time.time()\n",
    "\n",
    "img_path = \"test_img/10.JPEG\"\n",
    "img = image.load_img(img_path, target_size=(224, 224))\n",
    "\n",
    "\n",
    "x = image.img_to_array(img)\n",
    "x = np.expand_dims(x, axis=0)\n",
    "\n",
    "x = x[..., ::-1]\n",
    "\n",
    "for i in range(3):\n",
    "    x[:,:,:,i] -= MEAN[i]\n",
    "\n",
    "x[:,:,:,0] = x[:,:,:,0] * 0.017\n",
    "x[:,:,:,1] = x[:,:,:,1] * 0.017\n",
    "x[:,:,:,2] = x[:,:,:,2] * 0.017\n",
    "            \n",
    "\n",
    "\n",
    "\n",
    "print('Input image shape:', x.shape)\n",
    "\n",
    "preds = model2.predict(x)\n",
    "print(np.argmax(preds, axis=1))\n",
    "print('Predicted:', decode_predictions(preds))\n",
    "time2 = time.time()\n",
    "print('It took %0.3f ms' % ((time2-time1)*1000.0))"
   ]
  },
  {
   "cell_type": "code",
   "execution_count": null,
   "metadata": {
    "collapsed": true
   },
   "outputs": [],
   "source": []
  }
 ],
 "metadata": {
  "kernelspec": {
   "display_name": "Python 3",
   "language": "python",
   "name": "python3"
  },
  "language_info": {
   "codemirror_mode": {
    "name": "ipython",
    "version": 3
   },
   "file_extension": ".py",
   "mimetype": "text/x-python",
   "name": "python",
   "nbconvert_exporter": "python",
   "pygments_lexer": "ipython3",
   "version": "3.6.1"
  }
 },
 "nbformat": 4,
 "nbformat_minor": 2
}
