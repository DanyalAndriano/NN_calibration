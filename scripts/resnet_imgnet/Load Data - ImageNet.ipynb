{
 "cells": [
  {
   "cell_type": "markdown",
   "metadata": {},
   "source": [
    "# Load Data - ImageNet"
   ]
  },
  {
   "cell_type": "code",
   "execution_count": 12,
   "metadata": {
    "collapsed": true
   },
   "outputs": [],
   "source": [
    "import numpy as np\n",
    "from os import listdir\n",
    "from os.path import isfile, join\n",
    "from PIL import Image\n",
    "from sklearn.model_selection import train_test_split\n",
    "\n",
    "# Paths to files\n",
    "LABELS_PATH = '../../data/data_imagenet/labels.txt'\n",
    "DATA_PATH = '../../data/data_imagenet/val/'\n",
    "IMG_MEAN = [103.939, 116.779, 123.68]  # Mean to subtract from image, used it later, in training script\n",
    "\n",
    "# TODO find pre-calculated means and std\n",
    "\n",
    "# Load in images\n",
    "def load_img(path, size = (256, 256)):\n",
    "    im = Image.open(path)\n",
    "    im = im.resize(size, Image.ANTIALIAS)\n",
    "    rgb_im = im.convert('RGB')  # Some imageses are in Grayscale\n",
    "    return np.array(rgb_im)\n",
    "\n",
    "# Get center of image array\n",
    "def center_crop(img_mat, size = (224, 224)):\n",
    "    w,h,c = img_mat.shape\n",
    "    start_h = h//2-(size[1]//2)  # Size[1] - h of cropped image\n",
    "    start_w = w//2-(size[0]//2)  # Size[0] - w of cropepd image\n",
    "    return img_mat[start_w:start_w+size[0],start_h:start_h+size[1], :]"
   ]
  },
  {
   "cell_type": "code",
   "execution_count": 83,
   "metadata": {
    "collapsed": true
   },
   "outputs": [],
   "source": [
    "def load_data_imagenet(size = (256, 256), size_crop = (224, 224)):\n",
    "\n",
    "    # ### Get test and train labels\n",
    "\n",
    "    # First get all the labels\n",
    "    y_val = np.loadtxt(fname=LABELS_PATH, dtype=\"str\")\n",
    "    y_val = np.array(list(map(int, y_val[:,1])))\n",
    "        \n",
    "    # ### Load in images as numpy array\n",
    "\n",
    "    path = DATA_PATH\n",
    "    val_imgs = [f for f in listdir(path) if isfile(join(path, f))]\n",
    "    len_val = len(val_imgs)\n",
    "\n",
    "    # Fill in x_train array with train data\n",
    "\n",
    "    x_val = np.empty((len_val, *size_crop, 3), dtype=\"float32\")\n",
    "\n",
    "    for i, img_path in enumerate(val_imgs):\n",
    "        img_mat = load_img(DATA_PATH + img_path, size = size)\n",
    "        x_val[i] = center_crop(img_mat, size = size_crop)  # Crop center of the image\n",
    "\n",
    "    return (x_val, y_val)"
   ]
  },
  {
   "cell_type": "code",
   "execution_count": 84,
   "metadata": {
    "collapsed": true
   },
   "outputs": [],
   "source": [
    "def load_data_imagenet_split(size = (256, 256), size_crop = (224, 224), seed = 333):\n",
    "    \n",
    "    x,y = load_data_imagenet(size, size_crop)  # Load in data\n",
    "    \n",
    "    y = y[:100]\n",
    "    \n",
    "    for i in range(3):\n",
    "        x[:,:,:,i] -= IMG_MEAN[i]\n",
    "    \n",
    "    x_test, x_val, y_test, y_val = train_test_split(x, y, test_size=0.5, random_state=seed)\n",
    "    \n",
    "    return ((x_val, y_val), (x_test, y_test))    "
   ]
  },
  {
   "cell_type": "code",
   "execution_count": 85,
   "metadata": {},
   "outputs": [],
   "source": [
    "(x_val, y_val), (x_test, y_test) = load_data_imagenet_split()"
   ]
  },
  {
   "cell_type": "code",
   "execution_count": 86,
   "metadata": {},
   "outputs": [
    {
     "data": {
      "text/plain": [
       "(50, 224, 224, 3)"
      ]
     },
     "execution_count": 86,
     "metadata": {},
     "output_type": "execute_result"
    }
   ],
   "source": [
    "x_val.shape"
   ]
  },
  {
   "cell_type": "code",
   "execution_count": 81,
   "metadata": {},
   "outputs": [],
   "source": []
  },
  {
   "cell_type": "code",
   "execution_count": 87,
   "metadata": {},
   "outputs": [
    {
     "data": {
      "text/plain": [
       "(50,)"
      ]
     },
     "execution_count": 87,
     "metadata": {},
     "output_type": "execute_result"
    }
   ],
   "source": [
    "y_val.shape"
   ]
  },
  {
   "cell_type": "code",
   "execution_count": 93,
   "metadata": {},
   "outputs": [],
   "source": [
    "\n",
    "y_val_all = np.loadtxt(fname=LABELS_PATH, dtype=\"str\")\n",
    "y_val_all = np.array(list(map(int, y_val_all[:,1])))\n",
    "        "
   ]
  },
  {
   "cell_type": "code",
   "execution_count": 95,
   "metadata": {},
   "outputs": [
    {
     "data": {
      "text/plain": [
       "999"
      ]
     },
     "execution_count": 95,
     "metadata": {},
     "output_type": "execute_result"
    }
   ],
   "source": [
    "max(y_val_all)"
   ]
  },
  {
   "cell_type": "code",
   "execution_count": 98,
   "metadata": {},
   "outputs": [
    {
     "data": {
      "text/plain": [
       "(50000,)"
      ]
     },
     "execution_count": 98,
     "metadata": {},
     "output_type": "execute_result"
    }
   ],
   "source": [
    "y_val_all.shape"
   ]
  },
  {
   "cell_type": "code",
   "execution_count": 97,
   "metadata": {},
   "outputs": [],
   "source": [
    "y_val_test = keras.utils.to_categorical(y_val_all, 1000)"
   ]
  },
  {
   "cell_type": "code",
   "execution_count": 19,
   "metadata": {},
   "outputs": [
    {
     "name": "stderr",
     "output_type": "stream",
     "text": [
      "Using TensorFlow backend.\n"
     ]
    }
   ],
   "source": [
    "import keras"
   ]
  },
  {
   "cell_type": "code",
   "execution_count": 33,
   "metadata": {},
   "outputs": [
    {
     "data": {
      "text/plain": [
       "(50000, 1000)"
      ]
     },
     "execution_count": 33,
     "metadata": {},
     "output_type": "execute_result"
    }
   ],
   "source": [
    "y_val_test.shape"
   ]
  },
  {
   "cell_type": "code",
   "execution_count": null,
   "metadata": {
    "collapsed": true
   },
   "outputs": [],
   "source": [
    "[ np.where(r==1)[0][0] for r in y_true]"
   ]
  },
  {
   "cell_type": "code",
   "execution_count": 44,
   "metadata": {
    "collapsed": true
   },
   "outputs": [],
   "source": [
    "t = np.array([1,2,3])"
   ]
  },
  {
   "cell_type": "code",
   "execution_count": 46,
   "metadata": {},
   "outputs": [
    {
     "data": {
      "text/plain": [
       "(array([0], dtype=int64),)"
      ]
     },
     "execution_count": 46,
     "metadata": {},
     "output_type": "execute_result"
    }
   ],
   "source": [
    "np.where(t==1)"
   ]
  },
  {
   "cell_type": "code",
   "execution_count": 99,
   "metadata": {},
   "outputs": [
    {
     "data": {
      "text/plain": [
       "array([899, 879, 522,  49, 813, 239, 886, 347, 208, 294, 320,  87, 715,\n",
       "       929, 212,  94, 533, 903, 812, 921, 583, 709, 295, 372,  67, 361,\n",
       "       108, 447, 455,  49, 121, 919, 872, 277, 367, 430,  44,  81, 399,\n",
       "        24, 120, 357, 826, 101, 644, 283,  26, 232, 982, 355])"
      ]
     },
     "execution_count": 99,
     "metadata": {},
     "output_type": "execute_result"
    }
   ],
   "source": [
    "y_val_all[49950:]"
   ]
  },
  {
   "cell_type": "code",
   "execution_count": 49,
   "metadata": {},
   "outputs": [
    {
     "data": {
      "text/plain": [
       "185"
      ]
     },
     "execution_count": 49,
     "metadata": {},
     "output_type": "execute_result"
    }
   ],
   "source": [
    "y_val_all[49999]"
   ]
  },
  {
   "cell_type": "code",
   "execution_count": 100,
   "metadata": {
    "collapsed": true
   },
   "outputs": [],
   "source": [
    "from keras.applications.imagenet_utils import preprocess_input\n"
   ]
  },
  {
   "cell_type": "code",
   "execution_count": 102,
   "metadata": {},
   "outputs": [
    {
     "data": {
      "text/plain": [
       "(50, 224, 224, 3)"
      ]
     },
     "execution_count": 102,
     "metadata": {},
     "output_type": "execute_result"
    }
   ],
   "source": [
    "x_val.shape"
   ]
  }
 ],
 "metadata": {
  "kernelspec": {
   "display_name": "Python 3",
   "language": "python",
   "name": "python3"
  },
  "language_info": {
   "codemirror_mode": {
    "name": "ipython",
    "version": 3
   },
   "file_extension": ".py",
   "mimetype": "text/x-python",
   "name": "python",
   "nbconvert_exporter": "python",
   "pygments_lexer": "ipython3",
   "version": "3.6.1"
  }
 },
 "nbformat": 4,
 "nbformat_minor": 2
}
