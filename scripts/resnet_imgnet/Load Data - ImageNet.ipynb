{
 "cells": [
  {
   "cell_type": "markdown",
   "metadata": {},
   "source": [
    "# Load Data - ImageNet"
   ]
  },
  {
   "cell_type": "code",
   "execution_count": 3,
   "metadata": {
    "collapsed": true
   },
   "outputs": [],
   "source": [
    "import scipy.io\n",
    "import numpy as np\n",
    "import pickle\n",
    "from os import listdir\n",
    "from os.path import isfile, join\n",
    "from PIL import Image\n",
    "\n",
    "# Paths to files\n",
    "LABELS_PATH = '../../data/data_imagenet/labels.txt'\n",
    "DATA_PATH = '../../data/data_imagenet/val/'\n",
    "\n",
    "IMG_MEAN = [103.939, 116.779, 123.68]  # Mean to subtract from image, used it later, in training script\n",
    "\n",
    "# TODO find pre-calculated means and std\n",
    "\n",
    "# Load in images\n",
    "def load_img(path, size = (256, 256)):\n",
    "    im = Image.open(path)\n",
    "    im = im.resize(size, Image.ANTIALIAS)\n",
    "    rgb_im = im.convert('RGB')  # Some imageses are in Grayscale\n",
    "    return np.array(rgb_im)\n",
    "\n",
    "# Get center of image array\n",
    "def center_crop(img_mat, size = (224, 224)):\n",
    "    w,h,c = img_mat.shape\n",
    "    start_h = h//2-(size[1]//2)  # Size[1] - h of cropped image\n",
    "    start_w = w//2-(size[0]//2)  # Size[0] - w of cropepd image\n",
    "    return img_mat[start_w:start_w+size[0],start_h:start_h+size[1], :]"
   ]
  },
  {
   "cell_type": "code",
   "execution_count": 15,
   "metadata": {
    "collapsed": true
   },
   "outputs": [],
   "source": [
    "def load_data_imagenet(size = (256, 256), size_crop = (224, 224)):\n",
    "\n",
    "    # ### Get test and train labels\n",
    "\n",
    "    # First get all the labels\n",
    "    y_val = np.loadtxt(fname=LABELS_PATH, dtype=\"int16\")\n",
    "        \n",
    "    # ### Load in images as numpy array\n",
    "\n",
    "    path = DATA_PATH\n",
    "    val_imgs = [f for f in listdir(path) if isfile(join(path, f))]\n",
    "    len_val = len(val_imgs)\n",
    "\n",
    "    # Fill in x_train array with train data\n",
    "\n",
    "    x_val = np.empty((len_val, *size_crop, 3), dtype=\"float32\")\n",
    "\n",
    "    for i, img_path in enumerate(val_imgs):\n",
    "        img_mat = load_img(DATA_PATH + img_path, size = size)\n",
    "        x_val[i] = center_crop(img_mat, size = size_crop)  # Crop center of the image\n",
    "\n",
    "    return (x_val, y_val)"
   ]
  },
  {
   "cell_type": "code",
   "execution_count": 17,
   "metadata": {},
   "outputs": [],
   "source": [
    "x,y = load_data_imagenet()"
   ]
  },
  {
   "cell_type": "code",
   "execution_count": 18,
   "metadata": {},
   "outputs": [
    {
     "data": {
      "text/plain": [
       "(100, 224, 224, 3)"
      ]
     },
     "execution_count": 18,
     "metadata": {},
     "output_type": "execute_result"
    }
   ],
   "source": [
    "x.shape"
   ]
  },
  {
   "cell_type": "code",
   "execution_count": 20,
   "metadata": {},
   "outputs": [
    {
     "data": {
      "text/plain": [
       "(50000,)"
      ]
     },
     "execution_count": 20,
     "metadata": {},
     "output_type": "execute_result"
    }
   ],
   "source": [
    "y.shape"
   ]
  },
  {
   "cell_type": "code",
   "execution_count": null,
   "metadata": {
    "collapsed": true
   },
   "outputs": [],
   "source": []
  }
 ],
 "metadata": {
  "kernelspec": {
   "display_name": "Python 3",
   "language": "python",
   "name": "python3"
  },
  "language_info": {
   "codemirror_mode": {
    "name": "ipython",
    "version": 3
   },
   "file_extension": ".py",
   "mimetype": "text/x-python",
   "name": "python",
   "nbconvert_exporter": "python",
   "pygments_lexer": "ipython3",
   "version": "3.6.1"
  }
 },
 "nbformat": 4,
 "nbformat_minor": 2
}
