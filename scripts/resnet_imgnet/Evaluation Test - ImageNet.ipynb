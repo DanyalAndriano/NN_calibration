{
 "cells": [
  {
   "cell_type": "code",
   "execution_count": 10,
   "metadata": {},
   "outputs": [],
   "source": [
    "import numpy as np\n",
    "   \n",
    "from keras.optimizers import SGD\n",
    "from densenet161 import DenseNet \n",
    "from load_data_imagenet import load_data_imagenet\n",
    "from resnet152 import resnet152_model\n",
    "import keras\n",
    "from calibration import evaluate_model\n",
    "\n",
    "# Constants"
   ]
  },
  {
   "cell_type": "code",
   "execution_count": 2,
   "metadata": {
    "collapsed": true
   },
   "outputs": [],
   "source": [
    "MEAN = [103.939, 116.779, 123.68]"
   ]
  },
  {
   "cell_type": "code",
   "execution_count": 11,
   "metadata": {},
   "outputs": [
    {
     "ename": "ValueError",
     "evalue": "invalid literal for int() with base 10: \"b'65'\"",
     "output_type": "error",
     "traceback": [
      "\u001b[1;31m---------------------------------------------------------------------------\u001b[0m",
      "\u001b[1;31mValueError\u001b[0m                                Traceback (most recent call last)",
      "\u001b[1;32m<ipython-input-11-3726104d8f7f>\u001b[0m in \u001b[0;36m<module>\u001b[1;34m()\u001b[0m\n\u001b[0;32m      6\u001b[0m \u001b[1;33m\u001b[0m\u001b[0m\n\u001b[0;32m      7\u001b[0m \u001b[1;33m\u001b[0m\u001b[0m\n\u001b[1;32m----> 8\u001b[1;33m \u001b[1;33m(\u001b[0m\u001b[0mx_test\u001b[0m\u001b[1;33m,\u001b[0m \u001b[0my_test\u001b[0m\u001b[1;33m)\u001b[0m \u001b[1;33m=\u001b[0m \u001b[0mload_data_imagenet\u001b[0m\u001b[1;33m(\u001b[0m\u001b[1;33m)\u001b[0m\u001b[1;33m\u001b[0m\u001b[0m\n\u001b[0m",
      "\u001b[1;32mC:\\Users\\Markus\\Documents\\NN_calibration\\scripts\\resnet_imgnet\\load_data_imagenet.py\u001b[0m in \u001b[0;36mload_data_imagenet\u001b[1;34m(size, size_crop)\u001b[0m\n\u001b[0;32m     68\u001b[0m     \u001b[1;31m# First get all the labels\u001b[0m\u001b[1;33m\u001b[0m\u001b[1;33m\u001b[0m\u001b[0m\n\u001b[0;32m     69\u001b[0m     \u001b[0my_val\u001b[0m \u001b[1;33m=\u001b[0m \u001b[0mnp\u001b[0m\u001b[1;33m.\u001b[0m\u001b[0mloadtxt\u001b[0m\u001b[1;33m(\u001b[0m\u001b[0mfname\u001b[0m\u001b[1;33m=\u001b[0m\u001b[0mLABELS_PATH\u001b[0m\u001b[1;33m,\u001b[0m \u001b[0mdtype\u001b[0m\u001b[1;33m=\u001b[0m\u001b[1;34m\"str\"\u001b[0m\u001b[1;33m)\u001b[0m  \u001b[1;31m# Loads in tuple (\"img_name\", class)\u001b[0m\u001b[1;33m\u001b[0m\u001b[0m\n\u001b[1;32m---> 70\u001b[1;33m     \u001b[0my_val\u001b[0m \u001b[1;33m=\u001b[0m \u001b[0mnp\u001b[0m\u001b[1;33m.\u001b[0m\u001b[0marray\u001b[0m\u001b[1;33m(\u001b[0m\u001b[0mlist\u001b[0m\u001b[1;33m(\u001b[0m\u001b[0mmap\u001b[0m\u001b[1;33m(\u001b[0m\u001b[0mint\u001b[0m\u001b[1;33m,\u001b[0m \u001b[0my_val\u001b[0m\u001b[1;33m[\u001b[0m\u001b[1;33m:\u001b[0m\u001b[1;33m,\u001b[0m\u001b[1;36m1\u001b[0m\u001b[1;33m]\u001b[0m\u001b[1;33m)\u001b[0m\u001b[1;33m)\u001b[0m\u001b[1;33m,\u001b[0m \u001b[0mdtype\u001b[0m\u001b[1;33m=\u001b[0m\u001b[1;34m\"int16\"\u001b[0m\u001b[1;33m)\u001b[0m\u001b[1;33m\u001b[0m\u001b[0m\n\u001b[0m\u001b[0;32m     71\u001b[0m \u001b[1;33m\u001b[0m\u001b[0m\n\u001b[0;32m     72\u001b[0m     \u001b[1;31m# ### Load in images as numpy array\u001b[0m\u001b[1;33m\u001b[0m\u001b[1;33m\u001b[0m\u001b[0m\n",
      "\u001b[1;31mValueError\u001b[0m: invalid literal for int() with base 10: \"b'65'\""
     ]
    }
   ],
   "source": [
    "## Load already split and resized data (mean subtracted)\n",
    "seed = 333\n",
    "num_classes = 1000\n",
    "weights_file_resnet = \"../../models/resnet152_weights_tf.h5\"\n",
    "weights_file_densenet = \"../../models/densenet161_weights_tf.h5\"\n",
    "\n",
    "\n",
    "(x_test, y_test) = load_data_imagenet()"
   ]
  },
  {
   "cell_type": "code",
   "execution_count": 15,
   "metadata": {},
   "outputs": [
    {
     "data": {
      "text/plain": [
       "100"
      ]
     },
     "execution_count": 15,
     "metadata": {},
     "output_type": "execute_result"
    }
   ],
   "source": [
    "len(x_test)"
   ]
  },
  {
   "cell_type": "code",
   "execution_count": 19,
   "metadata": {},
   "outputs": [
    {
     "data": {
      "text/plain": [
       "array([243, 367, 458, 455, 116, 986, 505, 268, 416, 640, 420, 354, 739,\n",
       "       111, 384, 616, 878, 542, 567, 480, 897, 862, 780, 629, 866, 185,\n",
       "       887, 966, 898, 588, 161, 738,  65, 222, 646, 391, 100, 521, 252,\n",
       "       535, 787, 232, 497, 881, 667, 823, 577, 331, 602, 741, 899, 879,\n",
       "       522,  49, 813, 239, 886, 347, 208, 294, 320,  87, 715, 929, 212,\n",
       "        94, 533, 903, 812, 921, 583, 709, 295, 372,  67, 361, 108, 447,\n",
       "       455,  49, 121, 919, 872, 277, 367, 430,  44,  81, 399,  24, 120,\n",
       "       357, 826, 101, 644, 283,  26, 232, 982, 355], dtype=int16)"
      ]
     },
     "execution_count": 19,
     "metadata": {},
     "output_type": "execute_result"
    }
   ],
   "source": [
    "y_test"
   ]
  },
  {
   "cell_type": "code",
   "execution_count": 29,
   "metadata": {},
   "outputs": [],
   "source": [
    "from os import listdir\n",
    "from os.path import isfile, join\n",
    "\n",
    "\n",
    "DATA_PATH = '../../data/data_imagenet/val/'\n",
    "path = DATA_PATH\n",
    "val_imgs = [f for f in listdir(path) if isfile(join(path, f))]"
   ]
  },
  {
   "cell_type": "code",
   "execution_count": 32,
   "metadata": {},
   "outputs": [
    {
     "data": {
      "text/plain": [
       "['ILSVRC2012_val_00050000.JPEG',\n",
       " 'ILSVRC2012_val_00049999.JPEG',\n",
       " 'ILSVRC2012_val_00049998.JPEG',\n",
       " 'ILSVRC2012_val_00049997.JPEG',\n",
       " 'ILSVRC2012_val_00049996.JPEG',\n",
       " 'ILSVRC2012_val_00049995.JPEG',\n",
       " 'ILSVRC2012_val_00049994.JPEG',\n",
       " 'ILSVRC2012_val_00049993.JPEG',\n",
       " 'ILSVRC2012_val_00049992.JPEG',\n",
       " 'ILSVRC2012_val_00049991.JPEG',\n",
       " 'ILSVRC2012_val_00049990.JPEG',\n",
       " 'ILSVRC2012_val_00049989.JPEG',\n",
       " 'ILSVRC2012_val_00049988.JPEG',\n",
       " 'ILSVRC2012_val_00049987.JPEG',\n",
       " 'ILSVRC2012_val_00049986.JPEG',\n",
       " 'ILSVRC2012_val_00049985.JPEG',\n",
       " 'ILSVRC2012_val_00049984.JPEG',\n",
       " 'ILSVRC2012_val_00049983.JPEG',\n",
       " 'ILSVRC2012_val_00049982.JPEG',\n",
       " 'ILSVRC2012_val_00049981.JPEG',\n",
       " 'ILSVRC2012_val_00049980.JPEG',\n",
       " 'ILSVRC2012_val_00049979.JPEG',\n",
       " 'ILSVRC2012_val_00049978.JPEG',\n",
       " 'ILSVRC2012_val_00049977.JPEG',\n",
       " 'ILSVRC2012_val_00049976.JPEG',\n",
       " 'ILSVRC2012_val_00049975.JPEG',\n",
       " 'ILSVRC2012_val_00049974.JPEG',\n",
       " 'ILSVRC2012_val_00049973.JPEG',\n",
       " 'ILSVRC2012_val_00049972.JPEG',\n",
       " 'ILSVRC2012_val_00049971.JPEG',\n",
       " 'ILSVRC2012_val_00049970.JPEG',\n",
       " 'ILSVRC2012_val_00049969.JPEG',\n",
       " 'ILSVRC2012_val_00049968.JPEG',\n",
       " 'ILSVRC2012_val_00049967.JPEG',\n",
       " 'ILSVRC2012_val_00049966.JPEG',\n",
       " 'ILSVRC2012_val_00049965.JPEG',\n",
       " 'ILSVRC2012_val_00049964.JPEG',\n",
       " 'ILSVRC2012_val_00049963.JPEG',\n",
       " 'ILSVRC2012_val_00049962.JPEG',\n",
       " 'ILSVRC2012_val_00049961.JPEG',\n",
       " 'ILSVRC2012_val_00049960.JPEG',\n",
       " 'ILSVRC2012_val_00049959.JPEG',\n",
       " 'ILSVRC2012_val_00049958.JPEG',\n",
       " 'ILSVRC2012_val_00049957.JPEG',\n",
       " 'ILSVRC2012_val_00049956.JPEG',\n",
       " 'ILSVRC2012_val_00049955.JPEG',\n",
       " 'ILSVRC2012_val_00049954.JPEG',\n",
       " 'ILSVRC2012_val_00049953.JPEG',\n",
       " 'ILSVRC2012_val_00049952.JPEG',\n",
       " 'ILSVRC2012_val_00049951.JPEG',\n",
       " 'ILSVRC2012_val_00049950.JPEG',\n",
       " 'ILSVRC2012_val_00049949.JPEG',\n",
       " 'ILSVRC2012_val_00049948.JPEG',\n",
       " 'ILSVRC2012_val_00049947.JPEG',\n",
       " 'ILSVRC2012_val_00049946.JPEG',\n",
       " 'ILSVRC2012_val_00049945.JPEG',\n",
       " 'ILSVRC2012_val_00049944.JPEG',\n",
       " 'ILSVRC2012_val_00049943.JPEG',\n",
       " 'ILSVRC2012_val_00049942.JPEG',\n",
       " 'ILSVRC2012_val_00049941.JPEG',\n",
       " 'ILSVRC2012_val_00049940.JPEG',\n",
       " 'ILSVRC2012_val_00049939.JPEG',\n",
       " 'ILSVRC2012_val_00049938.JPEG',\n",
       " 'ILSVRC2012_val_00049937.JPEG',\n",
       " 'ILSVRC2012_val_00049936.JPEG',\n",
       " 'ILSVRC2012_val_00049935.JPEG',\n",
       " 'ILSVRC2012_val_00049934.JPEG',\n",
       " 'ILSVRC2012_val_00049933.JPEG',\n",
       " 'ILSVRC2012_val_00049932.JPEG',\n",
       " 'ILSVRC2012_val_00049931.JPEG',\n",
       " 'ILSVRC2012_val_00049930.JPEG',\n",
       " 'ILSVRC2012_val_00049929.JPEG',\n",
       " 'ILSVRC2012_val_00049928.JPEG',\n",
       " 'ILSVRC2012_val_00049927.JPEG',\n",
       " 'ILSVRC2012_val_00049926.JPEG',\n",
       " 'ILSVRC2012_val_00049925.JPEG',\n",
       " 'ILSVRC2012_val_00049924.JPEG',\n",
       " 'ILSVRC2012_val_00049923.JPEG',\n",
       " 'ILSVRC2012_val_00049922.JPEG',\n",
       " 'ILSVRC2012_val_00049921.JPEG',\n",
       " 'ILSVRC2012_val_00049920.JPEG',\n",
       " 'ILSVRC2012_val_00049919.JPEG',\n",
       " 'ILSVRC2012_val_00049918.JPEG',\n",
       " 'ILSVRC2012_val_00049917.JPEG',\n",
       " 'ILSVRC2012_val_00049916.JPEG',\n",
       " 'ILSVRC2012_val_00049915.JPEG',\n",
       " 'ILSVRC2012_val_00049914.JPEG',\n",
       " 'ILSVRC2012_val_00049913.JPEG',\n",
       " 'ILSVRC2012_val_00049912.JPEG',\n",
       " 'ILSVRC2012_val_00049911.JPEG',\n",
       " 'ILSVRC2012_val_00049910.JPEG',\n",
       " 'ILSVRC2012_val_00049909.JPEG',\n",
       " 'ILSVRC2012_val_00049908.JPEG',\n",
       " 'ILSVRC2012_val_00049907.JPEG',\n",
       " 'ILSVRC2012_val_00049906.JPEG',\n",
       " 'ILSVRC2012_val_00049905.JPEG',\n",
       " 'ILSVRC2012_val_00049904.JPEG',\n",
       " 'ILSVRC2012_val_00049903.JPEG',\n",
       " 'ILSVRC2012_val_00049902.JPEG',\n",
       " 'ILSVRC2012_val_00049901.JPEG']"
      ]
     },
     "execution_count": 32,
     "metadata": {},
     "output_type": "execute_result"
    }
   ],
   "source": [
    "sorted(val_imgs)"
   ]
  },
  {
   "cell_type": "markdown",
   "metadata": {},
   "source": [
    "### Load model"
   ]
  },
  {
   "cell_type": "code",
   "execution_count": 29,
   "metadata": {},
   "outputs": [
    {
     "name": "stdout",
     "output_type": "stream",
     "text": [
      "Preprocess data.\n"
     ]
    }
   ],
   "source": [
    "print(\"Preprocess data.\")\n",
    "    \n",
    "x_test = x_test[..., ::-1]\n",
    "\n",
    "for i in range(3):\n",
    "    x_test[:,:,:,i] -= MEAN[i]"
   ]
  },
  {
   "cell_type": "code",
   "execution_count": 15,
   "metadata": {
    "collapsed": true
   },
   "outputs": [],
   "source": [
    "# Load model\n",
    "model = resnet152_model()\n",
    "sgd = SGD(lr=1e-2, decay=1e-6, momentum=0.9, nesterov=True)\n",
    "model.compile(optimizer=sgd, loss='categorical_crossentropy', metrics=['accuracy'])"
   ]
  },
  {
   "cell_type": "code",
   "execution_count": 30,
   "metadata": {},
   "outputs": [
    {
     "name": "stdout",
     "output_type": "stream",
     "text": [
      "Start evaluation!\n",
      "Accuracy: 80.0\n",
      "Error: 20.0\n",
      "ECE: 0.125192543864\n",
      "MCE: 0.423873951038\n"
     ]
    },
    {
     "data": {
      "text/plain": [
       "(80.0, 0.12519254386425016, 0.42387395103772479)"
      ]
     },
     "execution_count": 30,
     "metadata": {},
     "output_type": "execute_result"
    }
   ],
   "source": [
    "print(\"Start evaluation!\")\n",
    "evaluate_model(model, weights_file_resnet, x_test, y_test, bins = 15, verbose = True)"
   ]
  },
  {
   "cell_type": "code",
   "execution_count": 21,
   "metadata": {
    "collapsed": true
   },
   "outputs": [],
   "source": []
  },
  {
   "cell_type": "code",
   "execution_count": 33,
   "metadata": {},
   "outputs": [
    {
     "data": {
      "text/plain": [
       "array([243, 367, 458, 455, 116, 986, 505, 268, 416, 640, 420, 354, 739,\n",
       "       111, 384, 616, 878, 542, 567, 480, 897, 862, 780, 629, 866, 185,\n",
       "       887, 966, 898, 588, 161, 738,  65, 222, 646, 391, 100, 521, 252,\n",
       "       535, 787, 232, 497, 881, 667, 823, 577, 331, 602, 741, 899, 879,\n",
       "       522,  49, 813, 239, 886, 347, 208, 294, 320,  87, 715, 929, 212,\n",
       "        94, 533, 903, 812, 921, 583, 709, 295, 372,  67, 361, 108, 447,\n",
       "       455,  49, 121, 919, 872, 277, 367, 430,  44,  81, 399,  24, 120,\n",
       "       357, 826, 101, 644, 283,  26, 232, 982, 355], dtype=int16)"
      ]
     },
     "execution_count": 33,
     "metadata": {},
     "output_type": "execute_result"
    }
   ],
   "source": [
    "y_test"
   ]
  },
  {
   "cell_type": "code",
   "execution_count": 37,
   "metadata": {},
   "outputs": [
    {
     "name": "stdout",
     "output_type": "stream",
     "text": [
      ":..\n"
     ]
    }
   ],
   "source": [
    "if len(y_test2.shape) > 1:  # If 1-hot representation, get back to numeric   \n",
    "    print(\":..\")\n",
    "     "
   ]
  },
  {
   "cell_type": "code",
   "execution_count": null,
   "metadata": {
    "collapsed": true
   },
   "outputs": [],
   "source": []
  }
 ],
 "metadata": {
  "kernelspec": {
   "display_name": "Python 3",
   "language": "python",
   "name": "python3"
  },
  "language_info": {
   "codemirror_mode": {
    "name": "ipython",
    "version": 3
   },
   "file_extension": ".py",
   "mimetype": "text/x-python",
   "name": "python",
   "nbconvert_exporter": "python",
   "pygments_lexer": "ipython3",
   "version": "3.6.1"
  }
 },
 "nbformat": 4,
 "nbformat_minor": 2
}
