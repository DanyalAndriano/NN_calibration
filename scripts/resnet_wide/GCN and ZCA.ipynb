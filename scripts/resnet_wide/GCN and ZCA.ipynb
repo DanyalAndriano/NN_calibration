{
 "cells": [
  {
   "cell_type": "markdown",
   "metadata": {},
   "source": [
    "# Global Contrast Normalization and ZCA whitening"
   ]
  },
  {
   "cell_type": "markdown",
   "metadata": {},
   "source": [
    "### GCA"
   ]
  },
  {
   "cell_type": "code",
   "execution_count": 87,
   "metadata": {},
   "outputs": [],
   "source": [
    "# Code base from\n",
    "# https://datascience.stackexchange.com/questions/15110/how-to-implement-global-contrast-normalization-in-python\n",
    "# and from\n",
    "# https://github.com/yumatsuoka/zca_exercize/blob/master/src/appZCAtoCIFAR10.py\n",
    "\n",
    "import numpy as np\n",
    "import scipy\n",
    "import scipy.misc\n",
    "from PIL import Image\n",
    "from keras.datasets import cifar10, cifar100\n",
    "\n",
    "\n",
    "def global_contrast_normalization(X, s = 1, lmda = 10, epsilon = 1e-9):\n",
    "    \n",
    "    # replacement for the loop\n",
    "    X_average = np.mean(X)\n",
    "    X = X - X_average\n",
    "\n",
    "    # `su` is here the mean, instead of the sum\n",
    "    contrast = np.sqrt(lmda + np.mean(X**2))\n",
    "    X = s * X / max(contrast, epsilon)\n",
    "    \n",
    "    return X\n",
    "\n",
    "def load_and_gbc_cifar(classes = 10):\n",
    "    \n",
    "    if classes == 10:\n",
    "        (X_train, Y_train), (X_test, y_test) = cifar10.load_data()\n",
    "    else:\n",
    "        (X_train, Y_train), (X_test, y_test) = cifar100.load_data()\n",
    "        \n",
    "    \n",
    "    X_train_gbc = []\n",
    "    X_test_gbc = []\n",
    "    \n",
    "    # Image by image global contrast normalization\n",
    "    for img in X_train:\n",
    "        X_train_gbc.append(global_contrast_normalization(img))\n",
    "        \n",
    "    for img in X_test:\n",
    "        X_test_gbc.append(global_contrast_normalization(img))\n",
    "        \n",
    "    X_train_gbc = np.array(X_train_gbc)\n",
    "    X_test_gbc = np.array(X_test_gbc)\n",
    "        \n",
    "    return (X_train_gbc, Y_train), (X_test_gbc, y_test)"
   ]
  },
  {
   "cell_type": "code",
   "execution_count": 89,
   "metadata": {},
   "outputs": [
    {
     "name": "stdout",
     "output_type": "stream",
     "text": [
      "(50000, 32, 32, 3)\n"
     ]
    },
    {
     "data": {
      "text/plain": [
       "(10000, 32, 32, 3)"
      ]
     },
     "execution_count": 89,
     "metadata": {},
     "output_type": "execute_result"
    }
   ],
   "source": [
    "from keras.datasets import cifar10\n",
    "(X_train, Y_train), (X_test, y_test) = load_and_gbc_cifar(classes=10)\n",
    "\n",
    "print(X_train.shape)\n",
    "X_test.shape"
   ]
  },
  {
   "cell_type": "code",
   "execution_count": 90,
   "metadata": {},
   "outputs": [
    {
     "name": "stdout",
     "output_type": "stream",
     "text": [
      "PCA fitting\n",
      "PCA done\n"
     ]
    }
   ],
   "source": [
    "# PCA fitting\n",
    "def principal_components(x):\n",
    "    x = x.transpose(0, 2, 3, 1)\n",
    "    flatx = numpy.reshape(x, (x.shape[0], x.shape[1] * x.shape[2] * x.shape[3]))  # Flatten image\n",
    "    sigma = numpy.dot(flatx.T, flatx) / flatx.shape[1]  # Calculate sigma\n",
    "    U, S, V = numpy.linalg.svd(sigma)  # Singular value decomposition\n",
    "    eps = 0.0001\n",
    "    return numpy.dot(numpy.dot(U, numpy.diag(1. / numpy.sqrt(S + eps))), U.T)\n",
    "\n",
    "\n",
    "print(\"PCA fitting\")\n",
    "pc = principal_components(X_train)\n",
    "print(\"PCA done\")"
   ]
  },
  {
   "cell_type": "code",
   "execution_count": 126,
   "metadata": {
    "collapsed": true
   },
   "outputs": [],
   "source": [
    "# ZCA whitening\n",
    "def zca_whitening(x, principal_components):\n",
    "    print(x.shape)\n",
    "    #x = x.transpose(1,2,0)\n",
    "    #print(x.shape)\n",
    "    flatx = numpy.reshape(x, (x.size))\n",
    "    whitex = numpy.dot(flatx, principal_components)\n",
    "    x = numpy.reshape(whitex, (x.shape[0], x.shape[1], x.shape[2]))\n",
    "    return x"
   ]
  },
  {
   "cell_type": "code",
   "execution_count": 132,
   "metadata": {},
   "outputs": [
    {
     "name": "stdout",
     "output_type": "stream",
     "text": [
      "(32, 32, 3)\n"
     ]
    }
   ],
   "source": [
    "test_img = zca_whitening(X_train[3], pc)"
   ]
  },
  {
   "cell_type": "code",
   "execution_count": 133,
   "metadata": {},
   "outputs": [
    {
     "data": {
      "text/plain": [
       "(32, 32, 3)"
      ]
     },
     "execution_count": 133,
     "metadata": {},
     "output_type": "execute_result"
    }
   ],
   "source": [
    "test_img.shape"
   ]
  },
  {
   "cell_type": "code",
   "execution_count": 134,
   "metadata": {},
   "outputs": [],
   "source": [
    "scipy.misc.imsave(\"test.jpg\", test_img)"
   ]
  },
  {
   "cell_type": "code",
   "execution_count": null,
   "metadata": {
    "collapsed": true
   },
   "outputs": [],
   "source": []
  }
 ],
 "metadata": {
  "kernelspec": {
   "display_name": "Python 3",
   "language": "python",
   "name": "python3"
  },
  "language_info": {
   "codemirror_mode": {
    "name": "ipython",
    "version": 3
   },
   "file_extension": ".py",
   "mimetype": "text/x-python",
   "name": "python",
   "nbconvert_exporter": "python",
   "pygments_lexer": "ipython3",
   "version": "3.6.1"
  }
 },
 "nbformat": 4,
 "nbformat_minor": 2
}
