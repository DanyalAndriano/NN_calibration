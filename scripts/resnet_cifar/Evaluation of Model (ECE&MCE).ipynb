{
 "cells": [
  {
   "cell_type": "markdown",
   "metadata": {},
   "source": [
    "# Evaluation of Model and ECE/MCE"
   ]
  },
  {
   "cell_type": "code",
   "execution_count": 1,
   "metadata": {},
   "outputs": [
    {
     "name": "stderr",
     "output_type": "stream",
     "text": [
      "Using TensorFlow backend.\n"
     ]
    }
   ],
   "source": [
    "# Code from https://github.com/BIGBALLON/cifar-10-cnn/blob/master/4_Residual_Network/ResNet_keras.py\n",
    "\n",
    "import keras\n",
    "import numpy as np\n",
    "from keras.datasets import cifar10, cifar100\n",
    "from keras.preprocessing.image import ImageDataGenerator\n",
    "from keras.layers.normalization import BatchNormalization\n",
    "from keras.layers import Conv2D, Dense, Input, add, Activation, GlobalAveragePooling2D\n",
    "from keras.callbacks import LearningRateScheduler, TensorBoard, ModelCheckpoint\n",
    "from keras.models import Model\n",
    "from keras import optimizers, regularizers\n",
    "from sklearn.model_selection import train_test_split"
   ]
  },
  {
   "cell_type": "code",
   "execution_count": 2,
   "metadata": {
    "collapsed": true
   },
   "outputs": [],
   "source": [
    "import sys\n",
    "from os import path\n",
    "sys.path.append( path.dirname( path.dirname( path.abspath(\"utility\") ) ) )\n",
    "from utility.calibration import softmax"
   ]
  },
  {
   "cell_type": "code",
   "execution_count": 2,
   "metadata": {
    "collapsed": true
   },
   "outputs": [],
   "source": [
    "stack_n            = 18            \n",
    "num_classes        = 10\n",
    "num_classes100     = 100\n",
    "img_rows, img_cols = 32, 32\n",
    "img_channels       = 3\n",
    "batch_size         = 128\n",
    "epochs             = 200\n",
    "iterations         = 45000 // batch_size\n",
    "weight_decay       = 0.0001\n",
    "seed = 333"
   ]
  },
  {
   "cell_type": "code",
   "execution_count": 5,
   "metadata": {
    "collapsed": true
   },
   "outputs": [],
   "source": [
    "def scheduler(epoch):\n",
    "    if epoch < 80:\n",
    "        return 0.1\n",
    "    if epoch < 150:\n",
    "        return 0.01\n",
    "    return 0.001\n",
    "\n",
    "def residual_network(img_input,classes_num=10,stack_n=5):\n",
    "    def residual_block(intput,out_channel,increase=False):\n",
    "        if increase:\n",
    "            stride = (2,2)\n",
    "        else:\n",
    "            stride = (1,1)\n",
    "\n",
    "        pre_bn   = BatchNormalization()(intput)\n",
    "        pre_relu = Activation('relu')(pre_bn)\n",
    "\n",
    "        conv_1 = Conv2D(out_channel,kernel_size=(3,3),strides=stride,padding='same',\n",
    "                        kernel_initializer=\"he_normal\",\n",
    "                        kernel_regularizer=regularizers.l2(weight_decay))(pre_relu)\n",
    "        bn_1   = BatchNormalization()(conv_1)\n",
    "        relu1  = Activation('relu')(bn_1)\n",
    "        conv_2 = Conv2D(out_channel,kernel_size=(3,3),strides=(1,1),padding='same',\n",
    "                        kernel_initializer=\"he_normal\",\n",
    "                        kernel_regularizer=regularizers.l2(weight_decay))(relu1)\n",
    "        if increase:\n",
    "            projection = Conv2D(out_channel,\n",
    "                                kernel_size=(1,1),\n",
    "                                strides=(2,2),\n",
    "                                padding='same',\n",
    "                                kernel_initializer=\"he_normal\",\n",
    "                                kernel_regularizer=regularizers.l2(weight_decay))(intput)\n",
    "            block = add([conv_2, projection])\n",
    "        else:\n",
    "            block = add([intput,conv_2])\n",
    "        return block\n",
    "\n",
    "    # build model\n",
    "    # total layers = stack_n * 3 * 2 + 2\n",
    "    # stack_n = 5 by default, total layers = 32\n",
    "    # input: 32x32x3 output: 32x32x16\n",
    "    x = Conv2D(filters=16,kernel_size=(3,3),strides=(1,1),padding='same',\n",
    "               kernel_initializer=\"he_normal\",\n",
    "               kernel_regularizer=regularizers.l2(weight_decay))(img_input)\n",
    "\n",
    "    # input: 32x32x16 output: 32x32x16\n",
    "    for _ in range(stack_n):\n",
    "        x = residual_block(x,16,False)\n",
    "\n",
    "    # input: 32x32x16 output: 16x16x32\n",
    "    x = residual_block(x,32,True)\n",
    "    for _ in range(1,stack_n):\n",
    "        x = residual_block(x,32,False)\n",
    "    \n",
    "    # input: 16x16x32 output: 8x8x64\n",
    "    x = residual_block(x,64,True)\n",
    "    for _ in range(1,stack_n):\n",
    "        x = residual_block(x,64,False)\n",
    "\n",
    "    x = BatchNormalization()(x)\n",
    "    x = Activation('relu')(x)\n",
    "    x = GlobalAveragePooling2D()(x)\n",
    "\n",
    "    # input: 64 output: 10\n",
    "    x = Dense(classes_num,activation='softmax',\n",
    "              kernel_initializer=\"he_normal\",\n",
    "              kernel_regularizer=regularizers.l2(weight_decay))(x)\n",
    "    return x\n",
    "\n",
    "\n",
    "def color_preprocessing(x_train,x_test):\n",
    "    x_train = x_train.astype('float32')\n",
    "    x_test = x_test.astype('float32')\n",
    "    for i in range(3):\n",
    "        x_train[:,:,:,i] = (x_train[:,:,:,i] - mean[i]) / std[i]\n",
    "        x_test[:,:,:,i] = (x_test[:,:,:,i] - mean[i]) / std[i]\n",
    "    return x_train, x_test"
   ]
  },
  {
   "cell_type": "markdown",
   "metadata": {},
   "source": [
    "### Load in data and models"
   ]
  },
  {
   "cell_type": "code",
   "execution_count": 4,
   "metadata": {
    "collapsed": true
   },
   "outputs": [],
   "source": [
    "seed = 333\n",
    "(x_train, y_train), (x_test, y_test) = cifar10.load_data()\n",
    "x_train45, x_val, y_train45, y_val = train_test_split(x_train, y_train, test_size=0.1, random_state=seed)  # random_state = seed\n",
    "#y_test = keras.utils.to_categorical(y_test, num_classes)\n",
    "#y_train = keras.utils.to_categorical(y_train, num_classes)"
   ]
  },
  {
   "cell_type": "code",
   "execution_count": 43,
   "metadata": {},
   "outputs": [],
   "source": [
    "from keras.datasets import cifar10, cifar100\n",
    "(x_train, y_train), (x_test, y_test) = cifar10.load_data()"
   ]
  },
  {
   "cell_type": "code",
   "execution_count": 44,
   "metadata": {},
   "outputs": [],
   "source": [
    "import scipy.misc\n",
    "import numpy as np\n",
    "from random import randint\n",
    "\n",
    "def example_imgs(data = x_train, samples = 74, rows = 4, spacer = 4, img_shape = (32,32,3), name = \"temp\"):\n",
    "    \n",
    "    columns = samples//rows\n",
    "    # Create empty numpy array\n",
    "    temp = np.zeros((img_shape[0]*rows + ((rows-1)*spacer), img_shape[1]*columns + (columns-1)*spacer, img_shape[2]))\n",
    "    print(temp.shape)\n",
    "\n",
    "    for r in range(rows):\n",
    "        for c in range(columns):\n",
    "            idx = randint(0, data.shape[0])\n",
    "            x = img_shape[0]*r + r*spacer\n",
    "            y = img_shape[1]*c + c*spacer\n",
    "            temp[x:x+img_shape[0], y:y+img_shape[0], :] = x_train[idx]\n",
    "    scipy.misc.imsave('%s.jpg' % name, temp)"
   ]
  },
  {
   "cell_type": "code",
   "execution_count": 46,
   "metadata": {},
   "outputs": [
    {
     "name": "stdout",
     "output_type": "stream",
     "text": [
      "(140, 644, 3)\n"
     ]
    },
    {
     "name": "stderr",
     "output_type": "stream",
     "text": [
      "C:\\Users\\Markus\\Anaconda3\\lib\\site-packages\\ipykernel_launcher.py:18: DeprecationWarning: `imsave` is deprecated!\n",
      "`imsave` is deprecated in SciPy 1.0.0, and will be removed in 1.2.0.\n",
      "Use ``imageio.imwrite`` instead.\n"
     ]
    }
   ],
   "source": [
    "example_imgs(name = \"cifar10_ex\")"
   ]
  },
  {
   "cell_type": "code",
   "execution_count": 5,
   "metadata": {},
   "outputs": [
    {
     "name": "stdout",
     "output_type": "stream",
     "text": [
      "(45000, 32, 32, 3)\n",
      "[ 125.25130773  122.88807411  113.77806187]\n",
      "float64\n"
     ]
    }
   ],
   "source": [
    "def color_preprocess(x_train, x_val, x_test):\n",
    "    \n",
    "    x_train = x_train.astype('float32')\n",
    "    x_val = x_val.astype('float32')    \n",
    "    x_test = x_test.astype('float32')\n",
    "    \n",
    "    mean = np.mean(x_train, axis=(0,1,2))\n",
    "    std = np.std(x_train, axis=(0,1,2))\n",
    "    x_train = (x_train - mean) / std\n",
    "    x_val = (x_val - mean) / std\n",
    "    x_test = (x_test - mean) / std\n",
    "    \n",
    "    return x_train, x_val, x_test"
   ]
  },
  {
   "cell_type": "code",
   "execution_count": 6,
   "metadata": {},
   "outputs": [
    {
     "data": {
      "text/plain": [
       "array([ 62.98463181,  62.08434617,  66.68483996])"
      ]
     },
     "execution_count": 6,
     "metadata": {},
     "output_type": "execute_result"
    }
   ],
   "source": [
    "std = np.std(x_train45, axis=(0,1,2))\n",
    "std"
   ]
  },
  {
   "cell_type": "code",
   "execution_count": 10,
   "metadata": {},
   "outputs": [
    {
     "data": {
      "text/plain": [
       "array([[-0.38503532, -0.20758975, -0.43155329],\n",
       "       [ 0.93274646, -0.03041144, -0.61150423],\n",
       "       [-0.57555798, -0.32033959,  0.10829955],\n",
       "       [-0.62318865, -0.88408878, -1.09137342],\n",
       "       [ 1.55194512,  1.77358598,  1.83282944]])"
      ]
     },
     "execution_count": 10,
     "metadata": {},
     "output_type": "execute_result"
    }
   ],
   "source": [
    "((x_train45 - mean)/std)[:5, 1, 1, :]"
   ]
  },
  {
   "cell_type": "code",
   "execution_count": 26,
   "metadata": {},
   "outputs": [
    {
     "data": {
      "text/plain": [
       "array([[ -24.25130773,  -12.88807411,  -28.77806187],\n",
       "       [  58.74869227,   -1.88807411,  -40.77806187],\n",
       "       [ -36.25130773,  -19.88807411,    7.22193813],\n",
       "       [ -39.25130773,  -54.88807411,  -72.77806187],\n",
       "       [  97.74869227,  110.11192589,  122.22193813]])"
      ]
     },
     "execution_count": 26,
     "metadata": {},
     "output_type": "execute_result"
    }
   ],
   "source": [
    "(x_train45.astype(\"float\") - mean)[:5, 1, 1, :]"
   ]
  },
  {
   "cell_type": "code",
   "execution_count": 24,
   "metadata": {
    "collapsed": true
   },
   "outputs": [],
   "source": [
    "# color preprocessing - using precalculated means and std-s\n",
    "img_mean = x_train45.mean(axis=0)  # per-pixel mean\n",
    "img_std = x_train45.std(axis=0)\n",
    "y_train45 = (x_train45-img_mean)/img_std\n",
    "x_val = (x_val-img_mean)/img_std\n",
    "x_test = (x_test-img_mean)/img_std"
   ]
  },
  {
   "cell_type": "code",
   "execution_count": 19,
   "metadata": {},
   "outputs": [
    {
     "name": "stdout",
     "output_type": "stream",
     "text": [
      "____________________________________________________________________________________________________\n",
      "Layer (type)                     Output Shape          Param #     Connected to                     \n",
      "====================================================================================================\n",
      "input_2 (InputLayer)             (None, 32, 32, 3)     0                                            \n",
      "____________________________________________________________________________________________________\n",
      "conv2d_112 (Conv2D)              (None, 32, 32, 16)    448         input_2[0][0]                    \n",
      "____________________________________________________________________________________________________\n",
      "batch_normalization_110 (BatchNo (None, 32, 32, 16)    64          conv2d_112[0][0]                 \n",
      "____________________________________________________________________________________________________\n",
      "activation_110 (Activation)      (None, 32, 32, 16)    0           batch_normalization_110[0][0]    \n",
      "____________________________________________________________________________________________________\n",
      "conv2d_113 (Conv2D)              (None, 32, 32, 16)    2320        activation_110[0][0]             \n",
      "____________________________________________________________________________________________________\n",
      "batch_normalization_111 (BatchNo (None, 32, 32, 16)    64          conv2d_113[0][0]                 \n",
      "____________________________________________________________________________________________________\n",
      "activation_111 (Activation)      (None, 32, 32, 16)    0           batch_normalization_111[0][0]    \n",
      "____________________________________________________________________________________________________\n",
      "conv2d_114 (Conv2D)              (None, 32, 32, 16)    2320        activation_111[0][0]             \n",
      "____________________________________________________________________________________________________\n",
      "add_55 (Add)                     (None, 32, 32, 16)    0           conv2d_112[0][0]                 \n",
      "                                                                   conv2d_114[0][0]                 \n",
      "____________________________________________________________________________________________________\n",
      "batch_normalization_112 (BatchNo (None, 32, 32, 16)    64          add_55[0][0]                     \n",
      "____________________________________________________________________________________________________\n",
      "activation_112 (Activation)      (None, 32, 32, 16)    0           batch_normalization_112[0][0]    \n",
      "____________________________________________________________________________________________________\n",
      "conv2d_115 (Conv2D)              (None, 32, 32, 16)    2320        activation_112[0][0]             \n",
      "____________________________________________________________________________________________________\n",
      "batch_normalization_113 (BatchNo (None, 32, 32, 16)    64          conv2d_115[0][0]                 \n",
      "____________________________________________________________________________________________________\n",
      "activation_113 (Activation)      (None, 32, 32, 16)    0           batch_normalization_113[0][0]    \n",
      "____________________________________________________________________________________________________\n",
      "conv2d_116 (Conv2D)              (None, 32, 32, 16)    2320        activation_113[0][0]             \n",
      "____________________________________________________________________________________________________\n",
      "add_56 (Add)                     (None, 32, 32, 16)    0           add_55[0][0]                     \n",
      "                                                                   conv2d_116[0][0]                 \n",
      "____________________________________________________________________________________________________\n",
      "batch_normalization_114 (BatchNo (None, 32, 32, 16)    64          add_56[0][0]                     \n",
      "____________________________________________________________________________________________________\n",
      "activation_114 (Activation)      (None, 32, 32, 16)    0           batch_normalization_114[0][0]    \n",
      "____________________________________________________________________________________________________\n",
      "conv2d_117 (Conv2D)              (None, 32, 32, 16)    2320        activation_114[0][0]             \n",
      "____________________________________________________________________________________________________\n",
      "batch_normalization_115 (BatchNo (None, 32, 32, 16)    64          conv2d_117[0][0]                 \n",
      "____________________________________________________________________________________________________\n",
      "activation_115 (Activation)      (None, 32, 32, 16)    0           batch_normalization_115[0][0]    \n",
      "____________________________________________________________________________________________________\n",
      "conv2d_118 (Conv2D)              (None, 32, 32, 16)    2320        activation_115[0][0]             \n",
      "____________________________________________________________________________________________________\n",
      "add_57 (Add)                     (None, 32, 32, 16)    0           add_56[0][0]                     \n",
      "                                                                   conv2d_118[0][0]                 \n",
      "____________________________________________________________________________________________________\n",
      "batch_normalization_116 (BatchNo (None, 32, 32, 16)    64          add_57[0][0]                     \n",
      "____________________________________________________________________________________________________\n",
      "activation_116 (Activation)      (None, 32, 32, 16)    0           batch_normalization_116[0][0]    \n",
      "____________________________________________________________________________________________________\n",
      "conv2d_119 (Conv2D)              (None, 32, 32, 16)    2320        activation_116[0][0]             \n",
      "____________________________________________________________________________________________________\n",
      "batch_normalization_117 (BatchNo (None, 32, 32, 16)    64          conv2d_119[0][0]                 \n",
      "____________________________________________________________________________________________________\n",
      "activation_117 (Activation)      (None, 32, 32, 16)    0           batch_normalization_117[0][0]    \n",
      "____________________________________________________________________________________________________\n",
      "conv2d_120 (Conv2D)              (None, 32, 32, 16)    2320        activation_117[0][0]             \n",
      "____________________________________________________________________________________________________\n",
      "add_58 (Add)                     (None, 32, 32, 16)    0           add_57[0][0]                     \n",
      "                                                                   conv2d_120[0][0]                 \n",
      "____________________________________________________________________________________________________\n",
      "batch_normalization_118 (BatchNo (None, 32, 32, 16)    64          add_58[0][0]                     \n",
      "____________________________________________________________________________________________________\n",
      "activation_118 (Activation)      (None, 32, 32, 16)    0           batch_normalization_118[0][0]    \n",
      "____________________________________________________________________________________________________\n",
      "conv2d_121 (Conv2D)              (None, 32, 32, 16)    2320        activation_118[0][0]             \n",
      "____________________________________________________________________________________________________\n",
      "batch_normalization_119 (BatchNo (None, 32, 32, 16)    64          conv2d_121[0][0]                 \n",
      "____________________________________________________________________________________________________\n",
      "activation_119 (Activation)      (None, 32, 32, 16)    0           batch_normalization_119[0][0]    \n",
      "____________________________________________________________________________________________________\n",
      "conv2d_122 (Conv2D)              (None, 32, 32, 16)    2320        activation_119[0][0]             \n",
      "____________________________________________________________________________________________________\n",
      "add_59 (Add)                     (None, 32, 32, 16)    0           add_58[0][0]                     \n",
      "                                                                   conv2d_122[0][0]                 \n",
      "____________________________________________________________________________________________________\n",
      "batch_normalization_120 (BatchNo (None, 32, 32, 16)    64          add_59[0][0]                     \n",
      "____________________________________________________________________________________________________\n",
      "activation_120 (Activation)      (None, 32, 32, 16)    0           batch_normalization_120[0][0]    \n",
      "____________________________________________________________________________________________________\n",
      "conv2d_123 (Conv2D)              (None, 32, 32, 16)    2320        activation_120[0][0]             \n",
      "____________________________________________________________________________________________________\n",
      "batch_normalization_121 (BatchNo (None, 32, 32, 16)    64          conv2d_123[0][0]                 \n",
      "____________________________________________________________________________________________________\n",
      "activation_121 (Activation)      (None, 32, 32, 16)    0           batch_normalization_121[0][0]    \n",
      "____________________________________________________________________________________________________\n",
      "conv2d_124 (Conv2D)              (None, 32, 32, 16)    2320        activation_121[0][0]             \n",
      "____________________________________________________________________________________________________\n",
      "add_60 (Add)                     (None, 32, 32, 16)    0           add_59[0][0]                     \n",
      "                                                                   conv2d_124[0][0]                 \n",
      "____________________________________________________________________________________________________\n",
      "batch_normalization_122 (BatchNo (None, 32, 32, 16)    64          add_60[0][0]                     \n",
      "____________________________________________________________________________________________________\n",
      "activation_122 (Activation)      (None, 32, 32, 16)    0           batch_normalization_122[0][0]    \n",
      "____________________________________________________________________________________________________\n",
      "conv2d_125 (Conv2D)              (None, 32, 32, 16)    2320        activation_122[0][0]             \n",
      "____________________________________________________________________________________________________\n",
      "batch_normalization_123 (BatchNo (None, 32, 32, 16)    64          conv2d_125[0][0]                 \n",
      "____________________________________________________________________________________________________\n",
      "activation_123 (Activation)      (None, 32, 32, 16)    0           batch_normalization_123[0][0]    \n",
      "____________________________________________________________________________________________________\n",
      "conv2d_126 (Conv2D)              (None, 32, 32, 16)    2320        activation_123[0][0]             \n",
      "____________________________________________________________________________________________________\n",
      "add_61 (Add)                     (None, 32, 32, 16)    0           add_60[0][0]                     \n",
      "                                                                   conv2d_126[0][0]                 \n",
      "____________________________________________________________________________________________________\n",
      "batch_normalization_124 (BatchNo (None, 32, 32, 16)    64          add_61[0][0]                     \n",
      "____________________________________________________________________________________________________\n",
      "activation_124 (Activation)      (None, 32, 32, 16)    0           batch_normalization_124[0][0]    \n",
      "____________________________________________________________________________________________________\n",
      "conv2d_127 (Conv2D)              (None, 32, 32, 16)    2320        activation_124[0][0]             \n",
      "____________________________________________________________________________________________________\n",
      "batch_normalization_125 (BatchNo (None, 32, 32, 16)    64          conv2d_127[0][0]                 \n",
      "____________________________________________________________________________________________________\n",
      "activation_125 (Activation)      (None, 32, 32, 16)    0           batch_normalization_125[0][0]    \n",
      "____________________________________________________________________________________________________\n",
      "conv2d_128 (Conv2D)              (None, 32, 32, 16)    2320        activation_125[0][0]             \n",
      "____________________________________________________________________________________________________\n",
      "add_62 (Add)                     (None, 32, 32, 16)    0           add_61[0][0]                     \n",
      "                                                                   conv2d_128[0][0]                 \n",
      "____________________________________________________________________________________________________\n",
      "batch_normalization_126 (BatchNo (None, 32, 32, 16)    64          add_62[0][0]                     \n",
      "____________________________________________________________________________________________________\n",
      "activation_126 (Activation)      (None, 32, 32, 16)    0           batch_normalization_126[0][0]    \n",
      "____________________________________________________________________________________________________\n",
      "conv2d_129 (Conv2D)              (None, 32, 32, 16)    2320        activation_126[0][0]             \n",
      "____________________________________________________________________________________________________\n",
      "batch_normalization_127 (BatchNo (None, 32, 32, 16)    64          conv2d_129[0][0]                 \n",
      "____________________________________________________________________________________________________\n",
      "activation_127 (Activation)      (None, 32, 32, 16)    0           batch_normalization_127[0][0]    \n",
      "____________________________________________________________________________________________________\n",
      "conv2d_130 (Conv2D)              (None, 32, 32, 16)    2320        activation_127[0][0]             \n",
      "____________________________________________________________________________________________________\n",
      "add_63 (Add)                     (None, 32, 32, 16)    0           add_62[0][0]                     \n",
      "                                                                   conv2d_130[0][0]                 \n",
      "____________________________________________________________________________________________________\n",
      "batch_normalization_128 (BatchNo (None, 32, 32, 16)    64          add_63[0][0]                     \n",
      "____________________________________________________________________________________________________\n",
      "activation_128 (Activation)      (None, 32, 32, 16)    0           batch_normalization_128[0][0]    \n",
      "____________________________________________________________________________________________________\n",
      "conv2d_131 (Conv2D)              (None, 32, 32, 16)    2320        activation_128[0][0]             \n",
      "____________________________________________________________________________________________________\n",
      "batch_normalization_129 (BatchNo (None, 32, 32, 16)    64          conv2d_131[0][0]                 \n",
      "____________________________________________________________________________________________________\n",
      "activation_129 (Activation)      (None, 32, 32, 16)    0           batch_normalization_129[0][0]    \n",
      "____________________________________________________________________________________________________\n",
      "conv2d_132 (Conv2D)              (None, 32, 32, 16)    2320        activation_129[0][0]             \n",
      "____________________________________________________________________________________________________\n",
      "add_64 (Add)                     (None, 32, 32, 16)    0           add_63[0][0]                     \n",
      "                                                                   conv2d_132[0][0]                 \n",
      "____________________________________________________________________________________________________\n",
      "batch_normalization_130 (BatchNo (None, 32, 32, 16)    64          add_64[0][0]                     \n",
      "____________________________________________________________________________________________________\n",
      "activation_130 (Activation)      (None, 32, 32, 16)    0           batch_normalization_130[0][0]    \n",
      "____________________________________________________________________________________________________\n",
      "conv2d_133 (Conv2D)              (None, 32, 32, 16)    2320        activation_130[0][0]             \n",
      "____________________________________________________________________________________________________\n",
      "batch_normalization_131 (BatchNo (None, 32, 32, 16)    64          conv2d_133[0][0]                 \n",
      "____________________________________________________________________________________________________\n",
      "activation_131 (Activation)      (None, 32, 32, 16)    0           batch_normalization_131[0][0]    \n",
      "____________________________________________________________________________________________________\n",
      "conv2d_134 (Conv2D)              (None, 32, 32, 16)    2320        activation_131[0][0]             \n",
      "____________________________________________________________________________________________________\n",
      "add_65 (Add)                     (None, 32, 32, 16)    0           add_64[0][0]                     \n",
      "                                                                   conv2d_134[0][0]                 \n",
      "____________________________________________________________________________________________________\n",
      "batch_normalization_132 (BatchNo (None, 32, 32, 16)    64          add_65[0][0]                     \n",
      "____________________________________________________________________________________________________\n",
      "activation_132 (Activation)      (None, 32, 32, 16)    0           batch_normalization_132[0][0]    \n",
      "____________________________________________________________________________________________________\n",
      "conv2d_135 (Conv2D)              (None, 32, 32, 16)    2320        activation_132[0][0]             \n",
      "____________________________________________________________________________________________________\n",
      "batch_normalization_133 (BatchNo (None, 32, 32, 16)    64          conv2d_135[0][0]                 \n",
      "____________________________________________________________________________________________________\n",
      "activation_133 (Activation)      (None, 32, 32, 16)    0           batch_normalization_133[0][0]    \n",
      "____________________________________________________________________________________________________\n",
      "conv2d_136 (Conv2D)              (None, 32, 32, 16)    2320        activation_133[0][0]             \n",
      "____________________________________________________________________________________________________\n",
      "add_66 (Add)                     (None, 32, 32, 16)    0           add_65[0][0]                     \n",
      "                                                                   conv2d_136[0][0]                 \n",
      "____________________________________________________________________________________________________\n",
      "batch_normalization_134 (BatchNo (None, 32, 32, 16)    64          add_66[0][0]                     \n",
      "____________________________________________________________________________________________________\n",
      "activation_134 (Activation)      (None, 32, 32, 16)    0           batch_normalization_134[0][0]    \n",
      "____________________________________________________________________________________________________\n",
      "conv2d_137 (Conv2D)              (None, 32, 32, 16)    2320        activation_134[0][0]             \n",
      "____________________________________________________________________________________________________\n",
      "batch_normalization_135 (BatchNo (None, 32, 32, 16)    64          conv2d_137[0][0]                 \n",
      "____________________________________________________________________________________________________\n",
      "activation_135 (Activation)      (None, 32, 32, 16)    0           batch_normalization_135[0][0]    \n",
      "____________________________________________________________________________________________________\n",
      "conv2d_138 (Conv2D)              (None, 32, 32, 16)    2320        activation_135[0][0]             \n",
      "____________________________________________________________________________________________________\n",
      "add_67 (Add)                     (None, 32, 32, 16)    0           add_66[0][0]                     \n",
      "                                                                   conv2d_138[0][0]                 \n",
      "____________________________________________________________________________________________________\n",
      "batch_normalization_136 (BatchNo (None, 32, 32, 16)    64          add_67[0][0]                     \n",
      "____________________________________________________________________________________________________\n",
      "activation_136 (Activation)      (None, 32, 32, 16)    0           batch_normalization_136[0][0]    \n",
      "____________________________________________________________________________________________________\n",
      "conv2d_139 (Conv2D)              (None, 32, 32, 16)    2320        activation_136[0][0]             \n",
      "____________________________________________________________________________________________________\n",
      "batch_normalization_137 (BatchNo (None, 32, 32, 16)    64          conv2d_139[0][0]                 \n",
      "____________________________________________________________________________________________________\n",
      "activation_137 (Activation)      (None, 32, 32, 16)    0           batch_normalization_137[0][0]    \n",
      "____________________________________________________________________________________________________\n",
      "conv2d_140 (Conv2D)              (None, 32, 32, 16)    2320        activation_137[0][0]             \n",
      "____________________________________________________________________________________________________\n",
      "add_68 (Add)                     (None, 32, 32, 16)    0           add_67[0][0]                     \n",
      "                                                                   conv2d_140[0][0]                 \n",
      "____________________________________________________________________________________________________\n",
      "batch_normalization_138 (BatchNo (None, 32, 32, 16)    64          add_68[0][0]                     \n",
      "____________________________________________________________________________________________________\n",
      "activation_138 (Activation)      (None, 32, 32, 16)    0           batch_normalization_138[0][0]    \n",
      "____________________________________________________________________________________________________\n",
      "conv2d_141 (Conv2D)              (None, 32, 32, 16)    2320        activation_138[0][0]             \n",
      "____________________________________________________________________________________________________\n",
      "batch_normalization_139 (BatchNo (None, 32, 32, 16)    64          conv2d_141[0][0]                 \n",
      "____________________________________________________________________________________________________\n",
      "activation_139 (Activation)      (None, 32, 32, 16)    0           batch_normalization_139[0][0]    \n",
      "____________________________________________________________________________________________________\n",
      "conv2d_142 (Conv2D)              (None, 32, 32, 16)    2320        activation_139[0][0]             \n",
      "____________________________________________________________________________________________________\n",
      "add_69 (Add)                     (None, 32, 32, 16)    0           add_68[0][0]                     \n",
      "                                                                   conv2d_142[0][0]                 \n",
      "____________________________________________________________________________________________________\n",
      "batch_normalization_140 (BatchNo (None, 32, 32, 16)    64          add_69[0][0]                     \n",
      "____________________________________________________________________________________________________\n",
      "activation_140 (Activation)      (None, 32, 32, 16)    0           batch_normalization_140[0][0]    \n",
      "____________________________________________________________________________________________________\n",
      "conv2d_143 (Conv2D)              (None, 32, 32, 16)    2320        activation_140[0][0]             \n",
      "____________________________________________________________________________________________________\n",
      "batch_normalization_141 (BatchNo (None, 32, 32, 16)    64          conv2d_143[0][0]                 \n",
      "____________________________________________________________________________________________________\n",
      "activation_141 (Activation)      (None, 32, 32, 16)    0           batch_normalization_141[0][0]    \n",
      "____________________________________________________________________________________________________\n",
      "conv2d_144 (Conv2D)              (None, 32, 32, 16)    2320        activation_141[0][0]             \n",
      "____________________________________________________________________________________________________\n",
      "add_70 (Add)                     (None, 32, 32, 16)    0           add_69[0][0]                     \n",
      "                                                                   conv2d_144[0][0]                 \n",
      "____________________________________________________________________________________________________\n",
      "batch_normalization_142 (BatchNo (None, 32, 32, 16)    64          add_70[0][0]                     \n",
      "____________________________________________________________________________________________________\n",
      "activation_142 (Activation)      (None, 32, 32, 16)    0           batch_normalization_142[0][0]    \n",
      "____________________________________________________________________________________________________\n",
      "conv2d_145 (Conv2D)              (None, 32, 32, 16)    2320        activation_142[0][0]             \n",
      "____________________________________________________________________________________________________\n",
      "batch_normalization_143 (BatchNo (None, 32, 32, 16)    64          conv2d_145[0][0]                 \n",
      "____________________________________________________________________________________________________\n",
      "activation_143 (Activation)      (None, 32, 32, 16)    0           batch_normalization_143[0][0]    \n",
      "____________________________________________________________________________________________________\n",
      "conv2d_146 (Conv2D)              (None, 32, 32, 16)    2320        activation_143[0][0]             \n",
      "____________________________________________________________________________________________________\n",
      "add_71 (Add)                     (None, 32, 32, 16)    0           add_70[0][0]                     \n",
      "                                                                   conv2d_146[0][0]                 \n",
      "____________________________________________________________________________________________________\n",
      "batch_normalization_144 (BatchNo (None, 32, 32, 16)    64          add_71[0][0]                     \n",
      "____________________________________________________________________________________________________\n",
      "activation_144 (Activation)      (None, 32, 32, 16)    0           batch_normalization_144[0][0]    \n",
      "____________________________________________________________________________________________________\n",
      "conv2d_147 (Conv2D)              (None, 32, 32, 16)    2320        activation_144[0][0]             \n",
      "____________________________________________________________________________________________________\n",
      "batch_normalization_145 (BatchNo (None, 32, 32, 16)    64          conv2d_147[0][0]                 \n",
      "____________________________________________________________________________________________________\n",
      "activation_145 (Activation)      (None, 32, 32, 16)    0           batch_normalization_145[0][0]    \n",
      "____________________________________________________________________________________________________\n",
      "conv2d_148 (Conv2D)              (None, 32, 32, 16)    2320        activation_145[0][0]             \n",
      "____________________________________________________________________________________________________\n",
      "add_72 (Add)                     (None, 32, 32, 16)    0           add_71[0][0]                     \n",
      "                                                                   conv2d_148[0][0]                 \n",
      "____________________________________________________________________________________________________\n",
      "batch_normalization_146 (BatchNo (None, 32, 32, 16)    64          add_72[0][0]                     \n",
      "____________________________________________________________________________________________________\n",
      "activation_146 (Activation)      (None, 32, 32, 16)    0           batch_normalization_146[0][0]    \n",
      "____________________________________________________________________________________________________\n",
      "conv2d_149 (Conv2D)              (None, 16, 16, 32)    4640        activation_146[0][0]             \n",
      "____________________________________________________________________________________________________\n",
      "batch_normalization_147 (BatchNo (None, 16, 16, 32)    128         conv2d_149[0][0]                 \n",
      "____________________________________________________________________________________________________\n",
      "activation_147 (Activation)      (None, 16, 16, 32)    0           batch_normalization_147[0][0]    \n",
      "____________________________________________________________________________________________________\n",
      "conv2d_150 (Conv2D)              (None, 16, 16, 32)    9248        activation_147[0][0]             \n",
      "____________________________________________________________________________________________________\n",
      "conv2d_151 (Conv2D)              (None, 16, 16, 32)    544         add_72[0][0]                     \n",
      "____________________________________________________________________________________________________\n",
      "add_73 (Add)                     (None, 16, 16, 32)    0           conv2d_150[0][0]                 \n",
      "                                                                   conv2d_151[0][0]                 \n",
      "____________________________________________________________________________________________________\n",
      "batch_normalization_148 (BatchNo (None, 16, 16, 32)    128         add_73[0][0]                     \n",
      "____________________________________________________________________________________________________\n",
      "activation_148 (Activation)      (None, 16, 16, 32)    0           batch_normalization_148[0][0]    \n",
      "____________________________________________________________________________________________________\n",
      "conv2d_152 (Conv2D)              (None, 16, 16, 32)    9248        activation_148[0][0]             \n",
      "____________________________________________________________________________________________________\n",
      "batch_normalization_149 (BatchNo (None, 16, 16, 32)    128         conv2d_152[0][0]                 \n",
      "____________________________________________________________________________________________________\n",
      "activation_149 (Activation)      (None, 16, 16, 32)    0           batch_normalization_149[0][0]    \n",
      "____________________________________________________________________________________________________\n",
      "conv2d_153 (Conv2D)              (None, 16, 16, 32)    9248        activation_149[0][0]             \n",
      "____________________________________________________________________________________________________\n",
      "add_74 (Add)                     (None, 16, 16, 32)    0           add_73[0][0]                     \n",
      "                                                                   conv2d_153[0][0]                 \n",
      "____________________________________________________________________________________________________\n",
      "batch_normalization_150 (BatchNo (None, 16, 16, 32)    128         add_74[0][0]                     \n",
      "____________________________________________________________________________________________________\n",
      "activation_150 (Activation)      (None, 16, 16, 32)    0           batch_normalization_150[0][0]    \n",
      "____________________________________________________________________________________________________\n",
      "conv2d_154 (Conv2D)              (None, 16, 16, 32)    9248        activation_150[0][0]             \n",
      "____________________________________________________________________________________________________\n",
      "batch_normalization_151 (BatchNo (None, 16, 16, 32)    128         conv2d_154[0][0]                 \n",
      "____________________________________________________________________________________________________\n",
      "activation_151 (Activation)      (None, 16, 16, 32)    0           batch_normalization_151[0][0]    \n",
      "____________________________________________________________________________________________________\n",
      "conv2d_155 (Conv2D)              (None, 16, 16, 32)    9248        activation_151[0][0]             \n",
      "____________________________________________________________________________________________________\n",
      "add_75 (Add)                     (None, 16, 16, 32)    0           add_74[0][0]                     \n",
      "                                                                   conv2d_155[0][0]                 \n",
      "____________________________________________________________________________________________________\n",
      "batch_normalization_152 (BatchNo (None, 16, 16, 32)    128         add_75[0][0]                     \n",
      "____________________________________________________________________________________________________\n",
      "activation_152 (Activation)      (None, 16, 16, 32)    0           batch_normalization_152[0][0]    \n",
      "____________________________________________________________________________________________________\n",
      "conv2d_156 (Conv2D)              (None, 16, 16, 32)    9248        activation_152[0][0]             \n",
      "____________________________________________________________________________________________________\n",
      "batch_normalization_153 (BatchNo (None, 16, 16, 32)    128         conv2d_156[0][0]                 \n",
      "____________________________________________________________________________________________________\n",
      "activation_153 (Activation)      (None, 16, 16, 32)    0           batch_normalization_153[0][0]    \n",
      "____________________________________________________________________________________________________\n",
      "conv2d_157 (Conv2D)              (None, 16, 16, 32)    9248        activation_153[0][0]             \n",
      "____________________________________________________________________________________________________\n",
      "add_76 (Add)                     (None, 16, 16, 32)    0           add_75[0][0]                     \n",
      "                                                                   conv2d_157[0][0]                 \n",
      "____________________________________________________________________________________________________\n",
      "batch_normalization_154 (BatchNo (None, 16, 16, 32)    128         add_76[0][0]                     \n",
      "____________________________________________________________________________________________________\n",
      "activation_154 (Activation)      (None, 16, 16, 32)    0           batch_normalization_154[0][0]    \n",
      "____________________________________________________________________________________________________\n",
      "conv2d_158 (Conv2D)              (None, 16, 16, 32)    9248        activation_154[0][0]             \n",
      "____________________________________________________________________________________________________\n",
      "batch_normalization_155 (BatchNo (None, 16, 16, 32)    128         conv2d_158[0][0]                 \n",
      "____________________________________________________________________________________________________\n",
      "activation_155 (Activation)      (None, 16, 16, 32)    0           batch_normalization_155[0][0]    \n",
      "____________________________________________________________________________________________________\n",
      "conv2d_159 (Conv2D)              (None, 16, 16, 32)    9248        activation_155[0][0]             \n",
      "____________________________________________________________________________________________________\n",
      "add_77 (Add)                     (None, 16, 16, 32)    0           add_76[0][0]                     \n",
      "                                                                   conv2d_159[0][0]                 \n",
      "____________________________________________________________________________________________________\n",
      "batch_normalization_156 (BatchNo (None, 16, 16, 32)    128         add_77[0][0]                     \n",
      "____________________________________________________________________________________________________\n",
      "activation_156 (Activation)      (None, 16, 16, 32)    0           batch_normalization_156[0][0]    \n",
      "____________________________________________________________________________________________________\n",
      "conv2d_160 (Conv2D)              (None, 16, 16, 32)    9248        activation_156[0][0]             \n",
      "____________________________________________________________________________________________________\n",
      "batch_normalization_157 (BatchNo (None, 16, 16, 32)    128         conv2d_160[0][0]                 \n",
      "____________________________________________________________________________________________________\n",
      "activation_157 (Activation)      (None, 16, 16, 32)    0           batch_normalization_157[0][0]    \n",
      "____________________________________________________________________________________________________\n",
      "conv2d_161 (Conv2D)              (None, 16, 16, 32)    9248        activation_157[0][0]             \n",
      "____________________________________________________________________________________________________\n",
      "add_78 (Add)                     (None, 16, 16, 32)    0           add_77[0][0]                     \n",
      "                                                                   conv2d_161[0][0]                 \n",
      "____________________________________________________________________________________________________\n",
      "batch_normalization_158 (BatchNo (None, 16, 16, 32)    128         add_78[0][0]                     \n",
      "____________________________________________________________________________________________________\n",
      "activation_158 (Activation)      (None, 16, 16, 32)    0           batch_normalization_158[0][0]    \n",
      "____________________________________________________________________________________________________\n",
      "conv2d_162 (Conv2D)              (None, 16, 16, 32)    9248        activation_158[0][0]             \n",
      "____________________________________________________________________________________________________\n",
      "batch_normalization_159 (BatchNo (None, 16, 16, 32)    128         conv2d_162[0][0]                 \n",
      "____________________________________________________________________________________________________\n",
      "activation_159 (Activation)      (None, 16, 16, 32)    0           batch_normalization_159[0][0]    \n",
      "____________________________________________________________________________________________________\n",
      "conv2d_163 (Conv2D)              (None, 16, 16, 32)    9248        activation_159[0][0]             \n",
      "____________________________________________________________________________________________________\n",
      "add_79 (Add)                     (None, 16, 16, 32)    0           add_78[0][0]                     \n",
      "                                                                   conv2d_163[0][0]                 \n",
      "____________________________________________________________________________________________________\n",
      "batch_normalization_160 (BatchNo (None, 16, 16, 32)    128         add_79[0][0]                     \n",
      "____________________________________________________________________________________________________\n",
      "activation_160 (Activation)      (None, 16, 16, 32)    0           batch_normalization_160[0][0]    \n",
      "____________________________________________________________________________________________________\n",
      "conv2d_164 (Conv2D)              (None, 16, 16, 32)    9248        activation_160[0][0]             \n",
      "____________________________________________________________________________________________________\n",
      "batch_normalization_161 (BatchNo (None, 16, 16, 32)    128         conv2d_164[0][0]                 \n",
      "____________________________________________________________________________________________________\n",
      "activation_161 (Activation)      (None, 16, 16, 32)    0           batch_normalization_161[0][0]    \n",
      "____________________________________________________________________________________________________\n",
      "conv2d_165 (Conv2D)              (None, 16, 16, 32)    9248        activation_161[0][0]             \n",
      "____________________________________________________________________________________________________\n",
      "add_80 (Add)                     (None, 16, 16, 32)    0           add_79[0][0]                     \n",
      "                                                                   conv2d_165[0][0]                 \n",
      "____________________________________________________________________________________________________\n",
      "batch_normalization_162 (BatchNo (None, 16, 16, 32)    128         add_80[0][0]                     \n",
      "____________________________________________________________________________________________________\n",
      "activation_162 (Activation)      (None, 16, 16, 32)    0           batch_normalization_162[0][0]    \n",
      "____________________________________________________________________________________________________\n",
      "conv2d_166 (Conv2D)              (None, 16, 16, 32)    9248        activation_162[0][0]             \n",
      "____________________________________________________________________________________________________\n",
      "batch_normalization_163 (BatchNo (None, 16, 16, 32)    128         conv2d_166[0][0]                 \n",
      "____________________________________________________________________________________________________\n",
      "activation_163 (Activation)      (None, 16, 16, 32)    0           batch_normalization_163[0][0]    \n",
      "____________________________________________________________________________________________________\n",
      "conv2d_167 (Conv2D)              (None, 16, 16, 32)    9248        activation_163[0][0]             \n",
      "____________________________________________________________________________________________________\n",
      "add_81 (Add)                     (None, 16, 16, 32)    0           add_80[0][0]                     \n",
      "                                                                   conv2d_167[0][0]                 \n",
      "____________________________________________________________________________________________________\n",
      "batch_normalization_164 (BatchNo (None, 16, 16, 32)    128         add_81[0][0]                     \n",
      "____________________________________________________________________________________________________\n",
      "activation_164 (Activation)      (None, 16, 16, 32)    0           batch_normalization_164[0][0]    \n",
      "____________________________________________________________________________________________________\n",
      "conv2d_168 (Conv2D)              (None, 16, 16, 32)    9248        activation_164[0][0]             \n",
      "____________________________________________________________________________________________________\n",
      "batch_normalization_165 (BatchNo (None, 16, 16, 32)    128         conv2d_168[0][0]                 \n",
      "____________________________________________________________________________________________________\n",
      "activation_165 (Activation)      (None, 16, 16, 32)    0           batch_normalization_165[0][0]    \n",
      "____________________________________________________________________________________________________\n",
      "conv2d_169 (Conv2D)              (None, 16, 16, 32)    9248        activation_165[0][0]             \n",
      "____________________________________________________________________________________________________\n",
      "add_82 (Add)                     (None, 16, 16, 32)    0           add_81[0][0]                     \n",
      "                                                                   conv2d_169[0][0]                 \n",
      "____________________________________________________________________________________________________\n",
      "batch_normalization_166 (BatchNo (None, 16, 16, 32)    128         add_82[0][0]                     \n",
      "____________________________________________________________________________________________________\n",
      "activation_166 (Activation)      (None, 16, 16, 32)    0           batch_normalization_166[0][0]    \n",
      "____________________________________________________________________________________________________\n",
      "conv2d_170 (Conv2D)              (None, 16, 16, 32)    9248        activation_166[0][0]             \n",
      "____________________________________________________________________________________________________\n",
      "batch_normalization_167 (BatchNo (None, 16, 16, 32)    128         conv2d_170[0][0]                 \n",
      "____________________________________________________________________________________________________\n",
      "activation_167 (Activation)      (None, 16, 16, 32)    0           batch_normalization_167[0][0]    \n",
      "____________________________________________________________________________________________________\n",
      "conv2d_171 (Conv2D)              (None, 16, 16, 32)    9248        activation_167[0][0]             \n",
      "____________________________________________________________________________________________________\n",
      "add_83 (Add)                     (None, 16, 16, 32)    0           add_82[0][0]                     \n",
      "                                                                   conv2d_171[0][0]                 \n",
      "____________________________________________________________________________________________________\n",
      "batch_normalization_168 (BatchNo (None, 16, 16, 32)    128         add_83[0][0]                     \n",
      "____________________________________________________________________________________________________\n",
      "activation_168 (Activation)      (None, 16, 16, 32)    0           batch_normalization_168[0][0]    \n",
      "____________________________________________________________________________________________________\n",
      "conv2d_172 (Conv2D)              (None, 16, 16, 32)    9248        activation_168[0][0]             \n",
      "____________________________________________________________________________________________________\n",
      "batch_normalization_169 (BatchNo (None, 16, 16, 32)    128         conv2d_172[0][0]                 \n",
      "____________________________________________________________________________________________________\n",
      "activation_169 (Activation)      (None, 16, 16, 32)    0           batch_normalization_169[0][0]    \n",
      "____________________________________________________________________________________________________\n",
      "conv2d_173 (Conv2D)              (None, 16, 16, 32)    9248        activation_169[0][0]             \n",
      "____________________________________________________________________________________________________\n",
      "add_84 (Add)                     (None, 16, 16, 32)    0           add_83[0][0]                     \n",
      "                                                                   conv2d_173[0][0]                 \n",
      "____________________________________________________________________________________________________\n",
      "batch_normalization_170 (BatchNo (None, 16, 16, 32)    128         add_84[0][0]                     \n",
      "____________________________________________________________________________________________________\n",
      "activation_170 (Activation)      (None, 16, 16, 32)    0           batch_normalization_170[0][0]    \n",
      "____________________________________________________________________________________________________\n",
      "conv2d_174 (Conv2D)              (None, 16, 16, 32)    9248        activation_170[0][0]             \n",
      "____________________________________________________________________________________________________\n",
      "batch_normalization_171 (BatchNo (None, 16, 16, 32)    128         conv2d_174[0][0]                 \n",
      "____________________________________________________________________________________________________\n",
      "activation_171 (Activation)      (None, 16, 16, 32)    0           batch_normalization_171[0][0]    \n",
      "____________________________________________________________________________________________________\n",
      "conv2d_175 (Conv2D)              (None, 16, 16, 32)    9248        activation_171[0][0]             \n",
      "____________________________________________________________________________________________________\n",
      "add_85 (Add)                     (None, 16, 16, 32)    0           add_84[0][0]                     \n",
      "                                                                   conv2d_175[0][0]                 \n",
      "____________________________________________________________________________________________________\n",
      "batch_normalization_172 (BatchNo (None, 16, 16, 32)    128         add_85[0][0]                     \n",
      "____________________________________________________________________________________________________\n",
      "activation_172 (Activation)      (None, 16, 16, 32)    0           batch_normalization_172[0][0]    \n",
      "____________________________________________________________________________________________________\n",
      "conv2d_176 (Conv2D)              (None, 16, 16, 32)    9248        activation_172[0][0]             \n",
      "____________________________________________________________________________________________________\n",
      "batch_normalization_173 (BatchNo (None, 16, 16, 32)    128         conv2d_176[0][0]                 \n",
      "____________________________________________________________________________________________________\n",
      "activation_173 (Activation)      (None, 16, 16, 32)    0           batch_normalization_173[0][0]    \n",
      "____________________________________________________________________________________________________\n",
      "conv2d_177 (Conv2D)              (None, 16, 16, 32)    9248        activation_173[0][0]             \n",
      "____________________________________________________________________________________________________\n",
      "add_86 (Add)                     (None, 16, 16, 32)    0           add_85[0][0]                     \n",
      "                                                                   conv2d_177[0][0]                 \n",
      "____________________________________________________________________________________________________\n",
      "batch_normalization_174 (BatchNo (None, 16, 16, 32)    128         add_86[0][0]                     \n",
      "____________________________________________________________________________________________________\n",
      "activation_174 (Activation)      (None, 16, 16, 32)    0           batch_normalization_174[0][0]    \n",
      "____________________________________________________________________________________________________\n",
      "conv2d_178 (Conv2D)              (None, 16, 16, 32)    9248        activation_174[0][0]             \n",
      "____________________________________________________________________________________________________\n",
      "batch_normalization_175 (BatchNo (None, 16, 16, 32)    128         conv2d_178[0][0]                 \n",
      "____________________________________________________________________________________________________\n",
      "activation_175 (Activation)      (None, 16, 16, 32)    0           batch_normalization_175[0][0]    \n",
      "____________________________________________________________________________________________________\n",
      "conv2d_179 (Conv2D)              (None, 16, 16, 32)    9248        activation_175[0][0]             \n",
      "____________________________________________________________________________________________________\n",
      "add_87 (Add)                     (None, 16, 16, 32)    0           add_86[0][0]                     \n",
      "                                                                   conv2d_179[0][0]                 \n",
      "____________________________________________________________________________________________________\n",
      "batch_normalization_176 (BatchNo (None, 16, 16, 32)    128         add_87[0][0]                     \n",
      "____________________________________________________________________________________________________\n",
      "activation_176 (Activation)      (None, 16, 16, 32)    0           batch_normalization_176[0][0]    \n",
      "____________________________________________________________________________________________________\n",
      "conv2d_180 (Conv2D)              (None, 16, 16, 32)    9248        activation_176[0][0]             \n",
      "____________________________________________________________________________________________________\n",
      "batch_normalization_177 (BatchNo (None, 16, 16, 32)    128         conv2d_180[0][0]                 \n",
      "____________________________________________________________________________________________________\n",
      "activation_177 (Activation)      (None, 16, 16, 32)    0           batch_normalization_177[0][0]    \n",
      "____________________________________________________________________________________________________\n",
      "conv2d_181 (Conv2D)              (None, 16, 16, 32)    9248        activation_177[0][0]             \n",
      "____________________________________________________________________________________________________\n",
      "add_88 (Add)                     (None, 16, 16, 32)    0           add_87[0][0]                     \n",
      "                                                                   conv2d_181[0][0]                 \n",
      "____________________________________________________________________________________________________\n",
      "batch_normalization_178 (BatchNo (None, 16, 16, 32)    128         add_88[0][0]                     \n",
      "____________________________________________________________________________________________________\n",
      "activation_178 (Activation)      (None, 16, 16, 32)    0           batch_normalization_178[0][0]    \n",
      "____________________________________________________________________________________________________\n",
      "conv2d_182 (Conv2D)              (None, 16, 16, 32)    9248        activation_178[0][0]             \n",
      "____________________________________________________________________________________________________\n",
      "batch_normalization_179 (BatchNo (None, 16, 16, 32)    128         conv2d_182[0][0]                 \n",
      "____________________________________________________________________________________________________\n",
      "activation_179 (Activation)      (None, 16, 16, 32)    0           batch_normalization_179[0][0]    \n",
      "____________________________________________________________________________________________________\n",
      "conv2d_183 (Conv2D)              (None, 16, 16, 32)    9248        activation_179[0][0]             \n",
      "____________________________________________________________________________________________________\n",
      "add_89 (Add)                     (None, 16, 16, 32)    0           add_88[0][0]                     \n",
      "                                                                   conv2d_183[0][0]                 \n",
      "____________________________________________________________________________________________________\n",
      "batch_normalization_180 (BatchNo (None, 16, 16, 32)    128         add_89[0][0]                     \n",
      "____________________________________________________________________________________________________\n",
      "activation_180 (Activation)      (None, 16, 16, 32)    0           batch_normalization_180[0][0]    \n",
      "____________________________________________________________________________________________________\n",
      "conv2d_184 (Conv2D)              (None, 16, 16, 32)    9248        activation_180[0][0]             \n",
      "____________________________________________________________________________________________________\n",
      "batch_normalization_181 (BatchNo (None, 16, 16, 32)    128         conv2d_184[0][0]                 \n",
      "____________________________________________________________________________________________________\n",
      "activation_181 (Activation)      (None, 16, 16, 32)    0           batch_normalization_181[0][0]    \n",
      "____________________________________________________________________________________________________\n",
      "conv2d_185 (Conv2D)              (None, 16, 16, 32)    9248        activation_181[0][0]             \n",
      "____________________________________________________________________________________________________\n",
      "add_90 (Add)                     (None, 16, 16, 32)    0           add_89[0][0]                     \n",
      "                                                                   conv2d_185[0][0]                 \n",
      "____________________________________________________________________________________________________\n",
      "batch_normalization_182 (BatchNo (None, 16, 16, 32)    128         add_90[0][0]                     \n",
      "____________________________________________________________________________________________________\n",
      "activation_182 (Activation)      (None, 16, 16, 32)    0           batch_normalization_182[0][0]    \n",
      "____________________________________________________________________________________________________\n",
      "conv2d_186 (Conv2D)              (None, 8, 8, 64)      18496       activation_182[0][0]             \n",
      "____________________________________________________________________________________________________\n",
      "batch_normalization_183 (BatchNo (None, 8, 8, 64)      256         conv2d_186[0][0]                 \n",
      "____________________________________________________________________________________________________\n",
      "activation_183 (Activation)      (None, 8, 8, 64)      0           batch_normalization_183[0][0]    \n",
      "____________________________________________________________________________________________________\n",
      "conv2d_187 (Conv2D)              (None, 8, 8, 64)      36928       activation_183[0][0]             \n",
      "____________________________________________________________________________________________________\n",
      "conv2d_188 (Conv2D)              (None, 8, 8, 64)      2112        add_90[0][0]                     \n",
      "____________________________________________________________________________________________________\n",
      "add_91 (Add)                     (None, 8, 8, 64)      0           conv2d_187[0][0]                 \n",
      "                                                                   conv2d_188[0][0]                 \n",
      "____________________________________________________________________________________________________\n",
      "batch_normalization_184 (BatchNo (None, 8, 8, 64)      256         add_91[0][0]                     \n",
      "____________________________________________________________________________________________________\n",
      "activation_184 (Activation)      (None, 8, 8, 64)      0           batch_normalization_184[0][0]    \n",
      "____________________________________________________________________________________________________\n",
      "conv2d_189 (Conv2D)              (None, 8, 8, 64)      36928       activation_184[0][0]             \n",
      "____________________________________________________________________________________________________\n",
      "batch_normalization_185 (BatchNo (None, 8, 8, 64)      256         conv2d_189[0][0]                 \n",
      "____________________________________________________________________________________________________\n",
      "activation_185 (Activation)      (None, 8, 8, 64)      0           batch_normalization_185[0][0]    \n",
      "____________________________________________________________________________________________________\n",
      "conv2d_190 (Conv2D)              (None, 8, 8, 64)      36928       activation_185[0][0]             \n",
      "____________________________________________________________________________________________________\n",
      "add_92 (Add)                     (None, 8, 8, 64)      0           add_91[0][0]                     \n",
      "                                                                   conv2d_190[0][0]                 \n",
      "____________________________________________________________________________________________________\n",
      "batch_normalization_186 (BatchNo (None, 8, 8, 64)      256         add_92[0][0]                     \n",
      "____________________________________________________________________________________________________\n",
      "activation_186 (Activation)      (None, 8, 8, 64)      0           batch_normalization_186[0][0]    \n",
      "____________________________________________________________________________________________________\n",
      "conv2d_191 (Conv2D)              (None, 8, 8, 64)      36928       activation_186[0][0]             \n",
      "____________________________________________________________________________________________________\n",
      "batch_normalization_187 (BatchNo (None, 8, 8, 64)      256         conv2d_191[0][0]                 \n",
      "____________________________________________________________________________________________________\n",
      "activation_187 (Activation)      (None, 8, 8, 64)      0           batch_normalization_187[0][0]    \n",
      "____________________________________________________________________________________________________\n",
      "conv2d_192 (Conv2D)              (None, 8, 8, 64)      36928       activation_187[0][0]             \n",
      "____________________________________________________________________________________________________\n",
      "add_93 (Add)                     (None, 8, 8, 64)      0           add_92[0][0]                     \n",
      "                                                                   conv2d_192[0][0]                 \n",
      "____________________________________________________________________________________________________\n",
      "batch_normalization_188 (BatchNo (None, 8, 8, 64)      256         add_93[0][0]                     \n",
      "____________________________________________________________________________________________________\n",
      "activation_188 (Activation)      (None, 8, 8, 64)      0           batch_normalization_188[0][0]    \n",
      "____________________________________________________________________________________________________\n",
      "conv2d_193 (Conv2D)              (None, 8, 8, 64)      36928       activation_188[0][0]             \n",
      "____________________________________________________________________________________________________\n",
      "batch_normalization_189 (BatchNo (None, 8, 8, 64)      256         conv2d_193[0][0]                 \n",
      "____________________________________________________________________________________________________\n",
      "activation_189 (Activation)      (None, 8, 8, 64)      0           batch_normalization_189[0][0]    \n",
      "____________________________________________________________________________________________________\n",
      "conv2d_194 (Conv2D)              (None, 8, 8, 64)      36928       activation_189[0][0]             \n",
      "____________________________________________________________________________________________________\n",
      "add_94 (Add)                     (None, 8, 8, 64)      0           add_93[0][0]                     \n",
      "                                                                   conv2d_194[0][0]                 \n",
      "____________________________________________________________________________________________________\n",
      "batch_normalization_190 (BatchNo (None, 8, 8, 64)      256         add_94[0][0]                     \n",
      "____________________________________________________________________________________________________\n",
      "activation_190 (Activation)      (None, 8, 8, 64)      0           batch_normalization_190[0][0]    \n",
      "____________________________________________________________________________________________________\n",
      "conv2d_195 (Conv2D)              (None, 8, 8, 64)      36928       activation_190[0][0]             \n",
      "____________________________________________________________________________________________________\n",
      "batch_normalization_191 (BatchNo (None, 8, 8, 64)      256         conv2d_195[0][0]                 \n",
      "____________________________________________________________________________________________________\n",
      "activation_191 (Activation)      (None, 8, 8, 64)      0           batch_normalization_191[0][0]    \n",
      "____________________________________________________________________________________________________\n",
      "conv2d_196 (Conv2D)              (None, 8, 8, 64)      36928       activation_191[0][0]             \n",
      "____________________________________________________________________________________________________\n",
      "add_95 (Add)                     (None, 8, 8, 64)      0           add_94[0][0]                     \n",
      "                                                                   conv2d_196[0][0]                 \n",
      "____________________________________________________________________________________________________\n",
      "batch_normalization_192 (BatchNo (None, 8, 8, 64)      256         add_95[0][0]                     \n",
      "____________________________________________________________________________________________________\n",
      "activation_192 (Activation)      (None, 8, 8, 64)      0           batch_normalization_192[0][0]    \n",
      "____________________________________________________________________________________________________\n",
      "conv2d_197 (Conv2D)              (None, 8, 8, 64)      36928       activation_192[0][0]             \n",
      "____________________________________________________________________________________________________\n",
      "batch_normalization_193 (BatchNo (None, 8, 8, 64)      256         conv2d_197[0][0]                 \n",
      "____________________________________________________________________________________________________\n",
      "activation_193 (Activation)      (None, 8, 8, 64)      0           batch_normalization_193[0][0]    \n",
      "____________________________________________________________________________________________________\n",
      "conv2d_198 (Conv2D)              (None, 8, 8, 64)      36928       activation_193[0][0]             \n",
      "____________________________________________________________________________________________________\n",
      "add_96 (Add)                     (None, 8, 8, 64)      0           add_95[0][0]                     \n",
      "                                                                   conv2d_198[0][0]                 \n",
      "____________________________________________________________________________________________________\n",
      "batch_normalization_194 (BatchNo (None, 8, 8, 64)      256         add_96[0][0]                     \n",
      "____________________________________________________________________________________________________\n",
      "activation_194 (Activation)      (None, 8, 8, 64)      0           batch_normalization_194[0][0]    \n",
      "____________________________________________________________________________________________________\n",
      "conv2d_199 (Conv2D)              (None, 8, 8, 64)      36928       activation_194[0][0]             \n",
      "____________________________________________________________________________________________________\n",
      "batch_normalization_195 (BatchNo (None, 8, 8, 64)      256         conv2d_199[0][0]                 \n",
      "____________________________________________________________________________________________________\n",
      "activation_195 (Activation)      (None, 8, 8, 64)      0           batch_normalization_195[0][0]    \n",
      "____________________________________________________________________________________________________\n",
      "conv2d_200 (Conv2D)              (None, 8, 8, 64)      36928       activation_195[0][0]             \n",
      "____________________________________________________________________________________________________\n",
      "add_97 (Add)                     (None, 8, 8, 64)      0           add_96[0][0]                     \n",
      "                                                                   conv2d_200[0][0]                 \n",
      "____________________________________________________________________________________________________\n",
      "batch_normalization_196 (BatchNo (None, 8, 8, 64)      256         add_97[0][0]                     \n",
      "____________________________________________________________________________________________________\n",
      "activation_196 (Activation)      (None, 8, 8, 64)      0           batch_normalization_196[0][0]    \n",
      "____________________________________________________________________________________________________\n",
      "conv2d_201 (Conv2D)              (None, 8, 8, 64)      36928       activation_196[0][0]             \n",
      "____________________________________________________________________________________________________\n",
      "batch_normalization_197 (BatchNo (None, 8, 8, 64)      256         conv2d_201[0][0]                 \n",
      "____________________________________________________________________________________________________\n",
      "activation_197 (Activation)      (None, 8, 8, 64)      0           batch_normalization_197[0][0]    \n",
      "____________________________________________________________________________________________________\n",
      "conv2d_202 (Conv2D)              (None, 8, 8, 64)      36928       activation_197[0][0]             \n",
      "____________________________________________________________________________________________________\n",
      "add_98 (Add)                     (None, 8, 8, 64)      0           add_97[0][0]                     \n",
      "                                                                   conv2d_202[0][0]                 \n",
      "____________________________________________________________________________________________________\n",
      "batch_normalization_198 (BatchNo (None, 8, 8, 64)      256         add_98[0][0]                     \n",
      "____________________________________________________________________________________________________\n",
      "activation_198 (Activation)      (None, 8, 8, 64)      0           batch_normalization_198[0][0]    \n",
      "____________________________________________________________________________________________________\n",
      "conv2d_203 (Conv2D)              (None, 8, 8, 64)      36928       activation_198[0][0]             \n",
      "____________________________________________________________________________________________________\n",
      "batch_normalization_199 (BatchNo (None, 8, 8, 64)      256         conv2d_203[0][0]                 \n",
      "____________________________________________________________________________________________________\n",
      "activation_199 (Activation)      (None, 8, 8, 64)      0           batch_normalization_199[0][0]    \n",
      "____________________________________________________________________________________________________\n",
      "conv2d_204 (Conv2D)              (None, 8, 8, 64)      36928       activation_199[0][0]             \n",
      "____________________________________________________________________________________________________\n",
      "add_99 (Add)                     (None, 8, 8, 64)      0           add_98[0][0]                     \n",
      "                                                                   conv2d_204[0][0]                 \n",
      "____________________________________________________________________________________________________\n",
      "batch_normalization_200 (BatchNo (None, 8, 8, 64)      256         add_99[0][0]                     \n",
      "____________________________________________________________________________________________________\n",
      "activation_200 (Activation)      (None, 8, 8, 64)      0           batch_normalization_200[0][0]    \n",
      "____________________________________________________________________________________________________\n",
      "conv2d_205 (Conv2D)              (None, 8, 8, 64)      36928       activation_200[0][0]             \n",
      "____________________________________________________________________________________________________\n",
      "batch_normalization_201 (BatchNo (None, 8, 8, 64)      256         conv2d_205[0][0]                 \n",
      "____________________________________________________________________________________________________\n",
      "activation_201 (Activation)      (None, 8, 8, 64)      0           batch_normalization_201[0][0]    \n",
      "____________________________________________________________________________________________________\n",
      "conv2d_206 (Conv2D)              (None, 8, 8, 64)      36928       activation_201[0][0]             \n",
      "____________________________________________________________________________________________________\n",
      "add_100 (Add)                    (None, 8, 8, 64)      0           add_99[0][0]                     \n",
      "                                                                   conv2d_206[0][0]                 \n",
      "____________________________________________________________________________________________________\n",
      "batch_normalization_202 (BatchNo (None, 8, 8, 64)      256         add_100[0][0]                    \n",
      "____________________________________________________________________________________________________\n",
      "activation_202 (Activation)      (None, 8, 8, 64)      0           batch_normalization_202[0][0]    \n",
      "____________________________________________________________________________________________________\n",
      "conv2d_207 (Conv2D)              (None, 8, 8, 64)      36928       activation_202[0][0]             \n",
      "____________________________________________________________________________________________________\n",
      "batch_normalization_203 (BatchNo (None, 8, 8, 64)      256         conv2d_207[0][0]                 \n",
      "____________________________________________________________________________________________________\n",
      "activation_203 (Activation)      (None, 8, 8, 64)      0           batch_normalization_203[0][0]    \n",
      "____________________________________________________________________________________________________\n",
      "conv2d_208 (Conv2D)              (None, 8, 8, 64)      36928       activation_203[0][0]             \n",
      "____________________________________________________________________________________________________\n",
      "add_101 (Add)                    (None, 8, 8, 64)      0           add_100[0][0]                    \n",
      "                                                                   conv2d_208[0][0]                 \n",
      "____________________________________________________________________________________________________\n",
      "batch_normalization_204 (BatchNo (None, 8, 8, 64)      256         add_101[0][0]                    \n",
      "____________________________________________________________________________________________________\n",
      "activation_204 (Activation)      (None, 8, 8, 64)      0           batch_normalization_204[0][0]    \n",
      "____________________________________________________________________________________________________\n",
      "conv2d_209 (Conv2D)              (None, 8, 8, 64)      36928       activation_204[0][0]             \n",
      "____________________________________________________________________________________________________\n",
      "batch_normalization_205 (BatchNo (None, 8, 8, 64)      256         conv2d_209[0][0]                 \n",
      "____________________________________________________________________________________________________\n",
      "activation_205 (Activation)      (None, 8, 8, 64)      0           batch_normalization_205[0][0]    \n",
      "____________________________________________________________________________________________________\n",
      "conv2d_210 (Conv2D)              (None, 8, 8, 64)      36928       activation_205[0][0]             \n",
      "____________________________________________________________________________________________________\n",
      "add_102 (Add)                    (None, 8, 8, 64)      0           add_101[0][0]                    \n",
      "                                                                   conv2d_210[0][0]                 \n",
      "____________________________________________________________________________________________________\n",
      "batch_normalization_206 (BatchNo (None, 8, 8, 64)      256         add_102[0][0]                    \n",
      "____________________________________________________________________________________________________\n",
      "activation_206 (Activation)      (None, 8, 8, 64)      0           batch_normalization_206[0][0]    \n",
      "____________________________________________________________________________________________________\n",
      "conv2d_211 (Conv2D)              (None, 8, 8, 64)      36928       activation_206[0][0]             \n",
      "____________________________________________________________________________________________________\n",
      "batch_normalization_207 (BatchNo (None, 8, 8, 64)      256         conv2d_211[0][0]                 \n",
      "____________________________________________________________________________________________________\n",
      "activation_207 (Activation)      (None, 8, 8, 64)      0           batch_normalization_207[0][0]    \n",
      "____________________________________________________________________________________________________\n",
      "conv2d_212 (Conv2D)              (None, 8, 8, 64)      36928       activation_207[0][0]             \n",
      "____________________________________________________________________________________________________\n",
      "add_103 (Add)                    (None, 8, 8, 64)      0           add_102[0][0]                    \n",
      "                                                                   conv2d_212[0][0]                 \n",
      "____________________________________________________________________________________________________\n",
      "batch_normalization_208 (BatchNo (None, 8, 8, 64)      256         add_103[0][0]                    \n",
      "____________________________________________________________________________________________________\n",
      "activation_208 (Activation)      (None, 8, 8, 64)      0           batch_normalization_208[0][0]    \n",
      "____________________________________________________________________________________________________\n",
      "conv2d_213 (Conv2D)              (None, 8, 8, 64)      36928       activation_208[0][0]             \n",
      "____________________________________________________________________________________________________\n",
      "batch_normalization_209 (BatchNo (None, 8, 8, 64)      256         conv2d_213[0][0]                 \n",
      "____________________________________________________________________________________________________\n",
      "activation_209 (Activation)      (None, 8, 8, 64)      0           batch_normalization_209[0][0]    \n",
      "____________________________________________________________________________________________________\n",
      "conv2d_214 (Conv2D)              (None, 8, 8, 64)      36928       activation_209[0][0]             \n",
      "____________________________________________________________________________________________________\n",
      "add_104 (Add)                    (None, 8, 8, 64)      0           add_103[0][0]                    \n",
      "                                                                   conv2d_214[0][0]                 \n",
      "____________________________________________________________________________________________________\n",
      "batch_normalization_210 (BatchNo (None, 8, 8, 64)      256         add_104[0][0]                    \n",
      "____________________________________________________________________________________________________\n",
      "activation_210 (Activation)      (None, 8, 8, 64)      0           batch_normalization_210[0][0]    \n",
      "____________________________________________________________________________________________________\n",
      "conv2d_215 (Conv2D)              (None, 8, 8, 64)      36928       activation_210[0][0]             \n",
      "____________________________________________________________________________________________________\n",
      "batch_normalization_211 (BatchNo (None, 8, 8, 64)      256         conv2d_215[0][0]                 \n",
      "____________________________________________________________________________________________________\n",
      "activation_211 (Activation)      (None, 8, 8, 64)      0           batch_normalization_211[0][0]    \n",
      "____________________________________________________________________________________________________\n",
      "conv2d_216 (Conv2D)              (None, 8, 8, 64)      36928       activation_211[0][0]             \n",
      "____________________________________________________________________________________________________\n",
      "add_105 (Add)                    (None, 8, 8, 64)      0           add_104[0][0]                    \n",
      "                                                                   conv2d_216[0][0]                 \n",
      "____________________________________________________________________________________________________\n",
      "batch_normalization_212 (BatchNo (None, 8, 8, 64)      256         add_105[0][0]                    \n",
      "____________________________________________________________________________________________________\n",
      "activation_212 (Activation)      (None, 8, 8, 64)      0           batch_normalization_212[0][0]    \n",
      "____________________________________________________________________________________________________\n",
      "conv2d_217 (Conv2D)              (None, 8, 8, 64)      36928       activation_212[0][0]             \n",
      "____________________________________________________________________________________________________\n",
      "batch_normalization_213 (BatchNo (None, 8, 8, 64)      256         conv2d_217[0][0]                 \n",
      "____________________________________________________________________________________________________\n",
      "activation_213 (Activation)      (None, 8, 8, 64)      0           batch_normalization_213[0][0]    \n",
      "____________________________________________________________________________________________________\n",
      "conv2d_218 (Conv2D)              (None, 8, 8, 64)      36928       activation_213[0][0]             \n",
      "____________________________________________________________________________________________________\n",
      "add_106 (Add)                    (None, 8, 8, 64)      0           add_105[0][0]                    \n",
      "                                                                   conv2d_218[0][0]                 \n",
      "____________________________________________________________________________________________________\n",
      "batch_normalization_214 (BatchNo (None, 8, 8, 64)      256         add_106[0][0]                    \n",
      "____________________________________________________________________________________________________\n",
      "activation_214 (Activation)      (None, 8, 8, 64)      0           batch_normalization_214[0][0]    \n",
      "____________________________________________________________________________________________________\n",
      "conv2d_219 (Conv2D)              (None, 8, 8, 64)      36928       activation_214[0][0]             \n",
      "____________________________________________________________________________________________________\n",
      "batch_normalization_215 (BatchNo (None, 8, 8, 64)      256         conv2d_219[0][0]                 \n",
      "____________________________________________________________________________________________________\n",
      "activation_215 (Activation)      (None, 8, 8, 64)      0           batch_normalization_215[0][0]    \n",
      "____________________________________________________________________________________________________\n",
      "conv2d_220 (Conv2D)              (None, 8, 8, 64)      36928       activation_215[0][0]             \n",
      "____________________________________________________________________________________________________\n",
      "add_107 (Add)                    (None, 8, 8, 64)      0           add_106[0][0]                    \n",
      "                                                                   conv2d_220[0][0]                 \n",
      "____________________________________________________________________________________________________\n",
      "batch_normalization_216 (BatchNo (None, 8, 8, 64)      256         add_107[0][0]                    \n",
      "____________________________________________________________________________________________________\n",
      "activation_216 (Activation)      (None, 8, 8, 64)      0           batch_normalization_216[0][0]    \n",
      "____________________________________________________________________________________________________\n",
      "conv2d_221 (Conv2D)              (None, 8, 8, 64)      36928       activation_216[0][0]             \n",
      "____________________________________________________________________________________________________\n",
      "batch_normalization_217 (BatchNo (None, 8, 8, 64)      256         conv2d_221[0][0]                 \n",
      "____________________________________________________________________________________________________\n",
      "activation_217 (Activation)      (None, 8, 8, 64)      0           batch_normalization_217[0][0]    \n",
      "____________________________________________________________________________________________________\n",
      "conv2d_222 (Conv2D)              (None, 8, 8, 64)      36928       activation_217[0][0]             \n",
      "____________________________________________________________________________________________________\n",
      "add_108 (Add)                    (None, 8, 8, 64)      0           add_107[0][0]                    \n",
      "                                                                   conv2d_222[0][0]                 \n",
      "____________________________________________________________________________________________________\n",
      "batch_normalization_218 (BatchNo (None, 8, 8, 64)      256         add_108[0][0]                    \n",
      "____________________________________________________________________________________________________\n",
      "activation_218 (Activation)      (None, 8, 8, 64)      0           batch_normalization_218[0][0]    \n",
      "____________________________________________________________________________________________________\n",
      "global_average_pooling2d_2 (Glob (None, 64)            0           activation_218[0][0]             \n",
      "____________________________________________________________________________________________________\n",
      "dense_2 (Dense)                  (None, 10)            650         global_average_pooling2d_2[0][0] \n",
      "====================================================================================================\n",
      "Total params: 1,742,762\n",
      "Trainable params: 1,734,666\n",
      "Non-trainable params: 8,096\n",
      "____________________________________________________________________________________________________\n",
      "None\n"
     ]
    }
   ],
   "source": [
    "# build network\n",
    "img_input = Input(shape=(img_rows,img_cols,img_channels))\n",
    "output    = residual_network(img_input,num_classes,stack_n)\n",
    "model    = Model(img_input, output)\n",
    "print(model.summary())"
   ]
  },
  {
   "cell_type": "code",
   "execution_count": 7,
   "metadata": {
    "collapsed": true
   },
   "outputs": [],
   "source": [
    "last_layer = model.layers.pop()"
   ]
  },
  {
   "cell_type": "code",
   "execution_count": 11,
   "metadata": {
    "collapsed": true
   },
   "outputs": [],
   "source": [
    "last_layer.activation = keras.activations.linear"
   ]
  },
  {
   "cell_type": "code",
   "execution_count": 12,
   "metadata": {},
   "outputs": [
    {
     "data": {
      "text/plain": [
       "<function keras.activations.linear>"
      ]
     },
     "execution_count": 12,
     "metadata": {},
     "output_type": "execute_result"
    }
   ],
   "source": [
    "last_layer.activation"
   ]
  },
  {
   "cell_type": "code",
   "execution_count": 15,
   "metadata": {
    "collapsed": true
   },
   "outputs": [],
   "source": [
    "i = model.input\n",
    "o = last_layer(model.layers[-1].output)\n",
    "model_logits = Model(inputs=i, outputs=[o])"
   ]
  },
  {
   "cell_type": "code",
   "execution_count": 21,
   "metadata": {},
   "outputs": [
    {
     "data": {
      "text/plain": [
       "<function keras.activations.linear>"
      ]
     },
     "execution_count": 21,
     "metadata": {},
     "output_type": "execute_result"
    }
   ],
   "source": [
    "model.layers[-1].activation = keras.activations.linear\n",
    "model.layers[-1].activation"
   ]
  },
  {
   "cell_type": "code",
   "execution_count": 18,
   "metadata": {},
   "outputs": [
    {
     "data": {
      "text/plain": [
       "<function keras.activations.linear>"
      ]
     },
     "execution_count": 18,
     "metadata": {},
     "output_type": "execute_result"
    }
   ],
   "source": [
    "#model_logits.summary()\n",
    "model_logits.layers[-1].activation"
   ]
  },
  {
   "cell_type": "markdown",
   "metadata": {},
   "source": [
    "### Load in weights"
   ]
  },
  {
   "cell_type": "code",
   "execution_count": 29,
   "metadata": {
    "collapsed": true,
    "scrolled": true
   },
   "outputs": [],
   "source": [
    "weights_file = \"../../models/resnet_110_45k_c10.h5\"\n",
    "# set optimizer\n",
    "#sgd = optimizers.SGD(lr=.1, momentum=0.9, nesterov=True)\n",
    "#model.compile(loss='categorical_crossentropy', optimizer=sgd, metrics=['accuracy'])\n",
    "\n",
    "model_logits.load_weights(weights_file)"
   ]
  },
  {
   "cell_type": "markdown",
   "metadata": {},
   "source": [
    "### Get predictions"
   ]
  },
  {
   "cell_type": "code",
   "execution_count": 30,
   "metadata": {},
   "outputs": [
    {
     "data": {
      "text/plain": [
       "array([3, 8, 8, 0, 6, 6, 1, 6, 3, 1, 0, 9, 5, 7, 9, 8, 5, 7, 8, 6, 7, 0, 4,\n",
       "       9, 5, 2, 4, 0, 9, 6, 6, 5, 4, 5, 9, 2, 4, 1, 9, 5, 4, 6, 5, 6, 0, 9,\n",
       "       3, 9, 7, 6, 9, 8, 3, 3, 8, 8, 7, 7, 5, 3, 7, 5, 6, 3, 6, 2, 1, 2, 3,\n",
       "       7, 2, 6, 8, 8, 0, 2, 9, 3, 3, 8, 8, 1, 1, 7, 2, 5, 2, 7, 8, 9, 0, 3,\n",
       "       8, 6, 4, 6, 4, 0, 0, 7], dtype=int64)"
      ]
     },
     "execution_count": 30,
     "metadata": {},
     "output_type": "execute_result"
    }
   ],
   "source": [
    "y_probs_test = model_logits.predict(x_test[:100])  # Probabilities of x_test\n",
    "y_probs_val = model_logits.predict(x_val[:100])  # Probabilities of validation set\n",
    "\n",
    "y_preds_test = np.argmax(y_probs_test, axis=1)\n",
    "y_preds_val = np.argmax(y_probs_val, axis=1)\n",
    "\n",
    "y_preds_test"
   ]
  },
  {
   "cell_type": "code",
   "execution_count": 32,
   "metadata": {},
   "outputs": [
    {
     "data": {
      "text/plain": [
       "array([ -2.17678881,  -1.41321993,  -0.68264014,  18.07477951,\n",
       "        -3.59385347,   3.82715774,  -0.41658324,  -3.55929089,\n",
       "        -2.00002789,  -8.03660107], dtype=float32)"
      ]
     },
     "execution_count": 32,
     "metadata": {},
     "output_type": "execute_result"
    }
   ],
   "source": [
    "y_probs_test[0]"
   ]
  },
  {
   "cell_type": "code",
   "execution_count": 29,
   "metadata": {},
   "outputs": [
    {
     "data": {
      "text/plain": [
       "(5000, 1)"
      ]
     },
     "execution_count": 29,
     "metadata": {},
     "output_type": "execute_result"
    }
   ],
   "source": [
    "y_test\n",
    "y_val.shape"
   ]
  },
  {
   "cell_type": "code",
   "execution_count": 33,
   "metadata": {},
   "outputs": [
    {
     "data": {
      "text/plain": [
       "array([2, 0, 3, 9, 6, 5, 2, 3, 9, 8, 0, 3, 3, 5, 8, 1, 2, 6, 7, 8, 0, 3, 6,\n",
       "       8, 0, 9, 3, 4, 9, 6, 5, 9, 3, 6, 7, 6, 3, 0, 1, 0, 9, 9, 2, 5, 7, 2,\n",
       "       2, 5, 1, 3, 0, 5, 9, 5, 7, 1, 5, 2, 6, 2, 5, 7, 0, 7, 3, 7, 0, 6, 8,\n",
       "       7, 0, 5, 0, 5, 7, 8, 9, 2, 6, 2, 9, 7, 8, 1, 8, 0, 7, 4, 6, 3, 8, 6,\n",
       "       2, 7, 8, 8, 3, 4, 2, 7], dtype=int64)"
      ]
     },
     "execution_count": 33,
     "metadata": {},
     "output_type": "execute_result"
    }
   ],
   "source": [
    "y_preds_val"
   ]
  },
  {
   "cell_type": "code",
   "execution_count": 15,
   "metadata": {},
   "outputs": [
    {
     "data": {
      "text/plain": [
       "array([2, 0, 3, 9, 6, 5, 2, 3, 9, 8, 0, 3, 3, 5, 8, 1, 2, 6, 7, 8, 0, 3, 6,\n",
       "       8, 0, 9, 3, 4, 9, 6, 5, 9, 3, 6, 7, 6, 3, 0, 1, 0, 9, 9, 2, 5, 7, 2,\n",
       "       2, 5, 1, 3, 0, 5, 9, 5, 7, 1, 5, 2, 6, 2, 5, 7, 0, 7, 3, 7, 0, 6, 8,\n",
       "       7, 0, 5, 0, 5, 7, 8, 9, 2, 6, 2, 9, 7, 8, 1, 8, 0, 7, 4, 6, 3, 8, 6,\n",
       "       2, 7, 8, 8, 3, 4, 2, 7], dtype=int64)"
      ]
     },
     "execution_count": 15,
     "metadata": {},
     "output_type": "execute_result"
    }
   ],
   "source": [
    "y_preds_val"
   ]
  },
  {
   "cell_type": "markdown",
   "metadata": {},
   "source": [
    "### Pickle probabilities and true labels to file"
   ]
  },
  {
   "cell_type": "code",
   "execution_count": 32,
   "metadata": {},
   "outputs": [
    {
     "name": "stdout",
     "output_type": "stream",
     "text": [
      "Pickle y_probs and y_true for validation and test\n",
      "Val probs: (100, 10)\n",
      "Test probs: (100, 10)\n"
     ]
    }
   ],
   "source": [
    "import pickle\n",
    "\n",
    "print(\"Pickle y_probs and y_true for validation and test\")\n",
    "print(\"Val probs:\", y_probs_val.shape)\n",
    "print(\"Test probs:\", y_probs_test.shape)\n",
    "with open('probs_val_test.p', 'wb') as f:\n",
    "    pickle.dump([(y_probs_val, y_val),(y_probs_test, y_test)], f)"
   ]
  },
  {
   "cell_type": "code",
   "execution_count": null,
   "metadata": {
    "collapsed": true
   },
   "outputs": [],
   "source": []
  },
  {
   "cell_type": "markdown",
   "metadata": {},
   "source": [
    "### Unpickle script"
   ]
  },
  {
   "cell_type": "code",
   "execution_count": 43,
   "metadata": {},
   "outputs": [
    {
     "name": "stdout",
     "output_type": "stream",
     "text": [
      "y_probs_val: (5000, 10)\n",
      "y_true_val: (5000, 1)\n",
      "y_probs_test: (10000, 10)\n",
      "y_true_test: (10000, 1)\n"
     ]
    }
   ],
   "source": [
    "# Code snippet with unpickling example\n",
    "\n",
    "FILE_PATH = 'probs_resnet110_c10.p'\n",
    "\n",
    "# Open file with pickled variables\n",
    "with open(FILE_PATH, 'rb') as f:  # Python 3: open(..., 'rb')\n",
    "    (y_probs_val, y_val), (y_probs_test, y_test) = pickle.load(f)  # unpickle the content\n",
    "    \n",
    "print(\"y_probs_val:\", y_probs_val.shape)  # (5000, 10)\n",
    "print(\"y_true_val:\", y_val.shape)  # (5000, 1)\n",
    "print(\"y_probs_test:\", y_probs_test.shape)  # (10000, 10)\n",
    "print(\"y_true_test:\", y_test.shape)  # (10000, 1)"
   ]
  },
  {
   "cell_type": "code",
   "execution_count": 44,
   "metadata": {},
   "outputs": [
    {
     "data": {
      "text/plain": [
       "(10000, 1)"
      ]
     },
     "execution_count": 44,
     "metadata": {},
     "output_type": "execute_result"
    }
   ],
   "source": [
    "np.array(y_test).shape"
   ]
  },
  {
   "cell_type": "code",
   "execution_count": 49,
   "metadata": {},
   "outputs": [
    {
     "data": {
      "text/plain": [
       "array([[  3.50494989e-09,   1.19858756e-09,   9.99999881e-01,\n",
       "          1.66713676e-07,   2.08328004e-08,   3.46615159e-09,\n",
       "          2.83694956e-09,   3.58366059e-10,   1.65589675e-08,\n",
       "          5.31787379e-08],\n",
       "       [  1.00000000e+00,   3.42834561e-09,   1.12174181e-09,\n",
       "          8.88697060e-10,   2.03891196e-10,   8.46661174e-13,\n",
       "          2.73120460e-09,   3.91965106e-12,   5.52859358e-09,\n",
       "          1.04786575e-10],\n",
       "       [  7.83462704e-12,   5.50029466e-11,   1.36148398e-10,\n",
       "          1.00000000e+00,   4.61316718e-09,   2.13355449e-08,\n",
       "          5.41587308e-09,   6.90314739e-09,   1.84315167e-11,\n",
       "          5.23302679e-10],\n",
       "       [  8.75694095e-09,   5.61593687e-08,   1.33443823e-09,\n",
       "          5.00291253e-10,   1.52686830e-09,   4.29750280e-08,\n",
       "          4.17214263e-09,   3.18475202e-08,   2.29611649e-10,\n",
       "          9.99999881e-01],\n",
       "       [  2.13542006e-09,   1.61225397e-08,   6.87036163e-07,\n",
       "          6.77614542e-09,   2.37569708e-07,   9.84804682e-10,\n",
       "          9.99999046e-01,   3.54858298e-09,   2.67747713e-09,\n",
       "          5.39961533e-08],\n",
       "       [  3.84084821e-12,   9.67143921e-10,   5.64051202e-11,\n",
       "          7.52659890e-09,   5.04668805e-08,   1.00000000e+00,\n",
       "          1.68872222e-10,   8.57698801e-10,   2.92754328e-11,\n",
       "          7.12713832e-10],\n",
       "       [  2.35914783e-07,   3.03938852e-09,   9.98291552e-01,\n",
       "          8.48726367e-10,   2.63836085e-07,   1.51860576e-07,\n",
       "          3.08666759e-10,   5.21746735e-09,   1.70787040e-03,\n",
       "          7.05470682e-10],\n",
       "       [  5.16403087e-10,   6.56642518e-09,   7.51207718e-09,\n",
       "          9.99966502e-01,   1.22031054e-07,   2.77530798e-05,\n",
       "          7.93138781e-08,   7.40408552e-08,   5.66721292e-09,\n",
       "          5.38416771e-06],\n",
       "       [  7.07376047e-10,   3.23725601e-07,   7.14985793e-10,\n",
       "          1.63325879e-07,   1.94033632e-07,   1.33844011e-08,\n",
       "          6.92806867e-10,   1.98816186e-09,   2.34044002e-08,\n",
       "          9.99999285e-01],\n",
       "       [  7.01927188e-12,   1.43849152e-13,   1.08363678e-14,\n",
       "          1.08008871e-12,   2.04556350e-19,   1.67707579e-15,\n",
       "          6.61136162e-16,   2.53363013e-15,   1.00000000e+00,\n",
       "          2.25411744e-13]], dtype=float32)"
      ]
     },
     "execution_count": 49,
     "metadata": {},
     "output_type": "execute_result"
    }
   ],
   "source": [
    "y_probs_val[:10]"
   ]
  },
  {
   "cell_type": "code",
   "execution_count": 46,
   "metadata": {},
   "outputs": [
    {
     "name": "stdout",
     "output_type": "stream",
     "text": [
      "Accuracy :  93.56\n",
      "Error :  6.44\n"
     ]
    }
   ],
   "source": [
    "import sklearn.metrics as metrics\n",
    "\n",
    "#y_true = [ np.where(r==1)[0][0] for r in y_test  # 1-hot vector back to numeric\n",
    "#y_true = [i[0] for i in y_test[:100]]\n",
    "#y_true = y_test[:100]\n",
    "y_preds = np.argmax(y_probs_test, axis=1)\n",
    "accuracy = metrics.accuracy_score(y_test, y_preds) * 100\n",
    "error = 100 - accuracy\n",
    "print(\"Accuracy : \", accuracy)\n",
    "print(\"Error : \", error)"
   ]
  },
  {
   "cell_type": "code",
   "execution_count": 47,
   "metadata": {},
   "outputs": [
    {
     "name": "stdout",
     "output_type": "stream",
     "text": [
      "Accuracy :  94.62\n",
      "Error :  5.38\n"
     ]
    }
   ],
   "source": [
    "import sklearn.metrics as metrics\n",
    "\n",
    "y_preds = np.argmax(y_probs_val, axis=1)\n",
    "accuracy = metrics.accuracy_score(y_val, y_preds) * 100\n",
    "error = 100 - accuracy\n",
    "print(\"Accuracy : \", accuracy)\n",
    "print(\"Error : \", error)"
   ]
  },
  {
   "cell_type": "code",
   "execution_count": 20,
   "metadata": {},
   "outputs": [
    {
     "ename": "IndexError",
     "evalue": "index 0 is out of bounds for axis 0 with size 0",
     "output_type": "error",
     "traceback": [
      "\u001b[1;31m---------------------------------------------------------------------------\u001b[0m",
      "\u001b[1;31mIndexError\u001b[0m                                Traceback (most recent call last)",
      "\u001b[1;32m<ipython-input-20-81899759ee7b>\u001b[0m in \u001b[0;36m<module>\u001b[1;34m()\u001b[0m\n\u001b[1;32m----> 1\u001b[1;33m \u001b[0my_true\u001b[0m \u001b[1;33m=\u001b[0m \u001b[1;33m[\u001b[0m \u001b[0mnp\u001b[0m\u001b[1;33m.\u001b[0m\u001b[0mwhere\u001b[0m\u001b[1;33m(\u001b[0m\u001b[0mr\u001b[0m\u001b[1;33m==\u001b[0m\u001b[1;36m1\u001b[0m\u001b[1;33m)\u001b[0m\u001b[1;33m[\u001b[0m\u001b[1;36m0\u001b[0m\u001b[1;33m]\u001b[0m\u001b[1;33m[\u001b[0m\u001b[1;36m0\u001b[0m\u001b[1;33m]\u001b[0m \u001b[1;32mfor\u001b[0m \u001b[0mr\u001b[0m \u001b[1;32min\u001b[0m \u001b[0my_true\u001b[0m\u001b[1;33m]\u001b[0m  \u001b[1;31m# 1-hot vector back to numeric\u001b[0m\u001b[1;33m\u001b[0m\u001b[0m\n\u001b[0m",
      "\u001b[1;32m<ipython-input-20-81899759ee7b>\u001b[0m in \u001b[0;36m<listcomp>\u001b[1;34m(.0)\u001b[0m\n\u001b[1;32m----> 1\u001b[1;33m \u001b[0my_true\u001b[0m \u001b[1;33m=\u001b[0m \u001b[1;33m[\u001b[0m \u001b[0mnp\u001b[0m\u001b[1;33m.\u001b[0m\u001b[0mwhere\u001b[0m\u001b[1;33m(\u001b[0m\u001b[0mr\u001b[0m\u001b[1;33m==\u001b[0m\u001b[1;36m1\u001b[0m\u001b[1;33m)\u001b[0m\u001b[1;33m[\u001b[0m\u001b[1;36m0\u001b[0m\u001b[1;33m]\u001b[0m\u001b[1;33m[\u001b[0m\u001b[1;36m0\u001b[0m\u001b[1;33m]\u001b[0m \u001b[1;32mfor\u001b[0m \u001b[0mr\u001b[0m \u001b[1;32min\u001b[0m \u001b[0my_true\u001b[0m\u001b[1;33m]\u001b[0m  \u001b[1;31m# 1-hot vector back to numeric\u001b[0m\u001b[1;33m\u001b[0m\u001b[0m\n\u001b[0m",
      "\u001b[1;31mIndexError\u001b[0m: index 0 is out of bounds for axis 0 with size 0"
     ]
    }
   ],
   "source": [
    "import sklearn.metrics as metrics\n",
    "y_true = [ np.where(r==1)[0][0] for r in y_true]  # 1-hot vector back to numeric\n",
    "accuracy = metrics.accuracy_score(y_true, y_preds) * 100\n",
    "error = 100 - accuracy\n",
    "print(\"Accuracy : \", accuracy)\n",
    "print(\"Error : \", error)"
   ]
  },
  {
   "cell_type": "code",
   "execution_count": 12,
   "metadata": {},
   "outputs": [
    {
     "data": {
      "text/plain": [
       "array([  1.29814670e-12,   3.19516921e-14,   1.29694150e-12,\n",
       "         8.40140782e-13,   9.55051056e-12,   5.13973759e-12,\n",
       "         4.98273941e-14,   2.79992433e-14,   1.09456996e-12,\n",
       "         6.37478459e-10,   6.82607415e-10,   2.85340870e-12,\n",
       "         1.22666961e-08,   2.68879123e-14,   1.58109989e-13,\n",
       "         4.45565702e-11,   1.43161996e-10,   7.95062258e-13,\n",
       "         1.54621284e-13,   3.83126052e-16,   1.20164156e-11,\n",
       "         5.41979317e-14,   5.14382428e-13,   7.72338753e-05,\n",
       "         2.65372689e-11,   3.70122683e-10,   3.51239133e-12,\n",
       "         7.51459780e-14,   1.13286325e-10,   1.05973329e-11,\n",
       "         3.01765110e-14,   9.55831969e-10,   1.99334093e-13,\n",
       "         6.06294215e-09,   6.65032714e-15,   2.88510874e-14,\n",
       "         5.68681647e-12,   9.86293269e-11,   1.44707109e-13,\n",
       "         7.06340333e-11,   6.69750644e-10,   3.51782610e-17,\n",
       "         1.21584036e-12,   3.53042824e-14,   1.78901737e-11,\n",
       "         1.09843639e-13,   1.29721123e-08,   9.95676963e-09,\n",
       "         4.25555417e-14,   6.66884192e-09,   2.16591373e-14,\n",
       "         8.62866907e-14,   2.36031854e-11,   7.33659661e-12,\n",
       "         1.05368026e-12,   2.35024318e-14,   9.36084135e-08,\n",
       "         4.80246572e-11,   2.01115752e-12,   1.28345433e-11,\n",
       "         2.04623047e-05,   1.13976542e-15,   1.80068918e-13,\n",
       "         1.64969306e-14,   9.36604960e-13,   4.04998639e-15,\n",
       "         1.07129236e-12,   4.05604315e-13,   3.28138450e-09,\n",
       "         3.12308468e-09,   1.82965948e-10,   9.99902129e-01,\n",
       "         4.63686312e-11,   1.33636695e-11,   5.70735386e-12,\n",
       "         2.55215879e-13,   5.92281024e-09,   8.71936909e-13,\n",
       "         8.51953700e-15,   4.62596461e-10,   1.01456509e-13,\n",
       "         2.46015361e-12,   1.24567734e-09,   2.06565949e-12,\n",
       "         7.91853960e-09,   2.98861912e-12,   6.21407223e-14,\n",
       "         4.37739089e-08,   3.42624929e-14,   3.66206267e-11,\n",
       "         2.65822764e-13,   3.14181461e-13,   1.75687919e-11,\n",
       "         8.77180099e-12,   3.10740988e-09,   6.50134321e-11,\n",
       "         2.55416799e-11,   6.73310979e-15,   7.52979970e-12,\n",
       "         1.72709954e-11], dtype=float32)"
      ]
     },
     "execution_count": 12,
     "metadata": {},
     "output_type": "execute_result"
    }
   ],
   "source": [
    "y_probs[4]"
   ]
  },
  {
   "cell_type": "code",
   "execution_count": 16,
   "metadata": {
    "collapsed": true
   },
   "outputs": [],
   "source": [
    "y_confs = np.max(y_probs, axis=1)"
   ]
  },
  {
   "cell_type": "code",
   "execution_count": 14,
   "metadata": {},
   "outputs": [
    {
     "data": {
      "text/plain": [
       "array([ 0.98633647,  0.99714005,  0.752069  ,  1.        ,  0.99990213], dtype=float32)"
      ]
     },
     "execution_count": 14,
     "metadata": {},
     "output_type": "execute_result"
    }
   ],
   "source": [
    "y_confs[:5]"
   ]
  },
  {
   "cell_type": "markdown",
   "metadata": {},
   "source": [
    "### Reliability diagrams"
   ]
  },
  {
   "cell_type": "code",
   "execution_count": 43,
   "metadata": {
    "collapsed": true
   },
   "outputs": [],
   "source": [
    "import numpy as np\n",
    "import matplotlib.pyplot as plt\n",
    "import random\n",
    "import seaborn as sns\n",
    "\n",
    "\n",
    "def reliability_diagrams(predictions, truths, confidences, bin_size=0.1, n_boot=1000):\n",
    "\n",
    "    upper_bounds = np.arange(bin_size, 1+bin_size, bin_size)\n",
    "    accs = []\n",
    "\n",
    "    # Compute empirical probability for each bin\n",
    "    plot_x = []\n",
    "    for conf_thresh in upper_bounds:\n",
    "        acc, perc_pred, avg_conf = compute_accuracy(conf_thresh-bin_size, conf_thresh, confidences, predictions, truths)\n",
    "        plot_x.append(avg_conf)\n",
    "        accs.append(acc)\n",
    "\n",
    "    # Produce error bars for each bin\n",
    "    upper_bound_to_bootstrap_est = {x:[] for x in upper_bounds}\n",
    "    for i in range(n_boot):\n",
    "\n",
    "        # Generate bootstrap\n",
    "        boot_strap_outcomes = []\n",
    "        boot_strap_confs = random.sample(confidences, len(confidences))\n",
    "        for samp_conf in boot_strap_confs:\n",
    "            correct = 0\n",
    "            if random.random() < samp_conf:\n",
    "                correct = 1\n",
    "            boot_strap_outcomes.append(correct)\n",
    "\n",
    "        # Compute error frequency in each bin\n",
    "        for upper_bound in upper_bounds:\n",
    "            conf_thresh_upper = upper_bound\n",
    "            conf_thresh_lower = upper_bound - bin_size\n",
    "\n",
    "            filtered_tuples = [x for x in zip(boot_strap_outcomes, boot_strap_confs) if x[1] > conf_thresh_lower and x[1] <= conf_thresh_upper]\n",
    "            correct = len([x for x in filtered_tuples if x[0] == 1])\n",
    "            acc = float(correct) / len(filtered_tuples) if len(filtered_tuples) > 0 else 0\n",
    "\n",
    "            upper_bound_to_bootstrap_est[upper_bound].append(acc)\n",
    "       \n",
    "    upper_bound_to_bootstrap_upper_bar = {}\n",
    "    upper_bound_to_bootstrap_lower_bar = {}\n",
    "    for upper_bound, freqs in upper_bound_to_bootstrap_est.iteritems():\n",
    "        top_95_quintile_i = int(0.975 * len(freqs))\n",
    "        lower_5_quintile_i = int(0.025 * len(freqs))\n",
    "\n",
    "        upper_bar = sorted(freqs)[top_95_quintile_i]\n",
    "        lower_bar = sorted(freqs)[lower_5_quintile_i]\n",
    "\n",
    "        upper_bound_to_bootstrap_upper_bar[upper_bound] = upper_bar\n",
    "        upper_bound_to_bootstrap_lower_bar[upper_bound] = lower_bar\n",
    "\n",
    "    upper_bars = []\n",
    "    lower_bars = []\n",
    "    for i, upper_bound in enumerate(upper_bounds):\n",
    "        if upper_bound_to_bootstrap_upper_bar[upper_bound] == 0:\n",
    "            upper_bars.append(0)\n",
    "            lower_bars.append(0)\n",
    "        else:\n",
    "            # The error bar arguments need to be the distance from the data point, not the y-value\n",
    "            upper_bars.append(abs(plot_x[i] - upper_bound_to_bootstrap_upper_bar[upper_bound]))\n",
    "            lower_bars.append(abs(plot_x[i] - upper_bound_to_bootstrap_lower_bar[upper_bound]))\n",
    "\n",
    "    #print zip(upper_bars, lower_bars)\n",
    "\n",
    "    sns.set(font_scale=2)\n",
    "    fig, ax = plt.subplots()\n",
    "    ax.errorbar(plot_x, plot_x, yerr=[lower_bars, upper_bars], label=\"Perfect classifier calibration\")\n",
    "\n",
    "    new_plot_x = []\n",
    "    new_accs = []\n",
    "    for i, bars in enumerate(zip(lower_bars, upper_bars)):\n",
    "        if bars[0] == 0 and bars[1] == 0:\n",
    "            continue\n",
    "        new_plot_x.append(plot_x[i])\n",
    "        new_accs.append(accs[i])\n",
    "    \n",
    "    ax.plot(new_plot_x, new_accs, '-o', label=\"Accuracy\", color=\"red\")\n",
    "    ax.set_ylim([0,1])\n",
    "    ax.set_xlim([0,1])\n",
    "    sns.plt.ylabel('Empirical probability')\n",
    "    sns.plt.xlabel('Estimated probability')\n",
    "\n",
    "    fig.set_size_inches(5, 5)\n",
    "    #fig.savefig(\"reliability.tif\", format='tif', bbox_inches='tight', dpi=1200)\n",
    "    #fig.savefig(\"reliability.eps\", format='eps', bbox_inches='tight', dpi=1200)\n",
    "\n",
    "    plt.show()\n",
    "        \n",
    "\n",
    "\n",
    "def compute_accuracy(conf_thresh_lower, conf_thresh_upper, conf, pred, true):\n",
    "\n",
    "    filtered_tuples = [x for x in zip(pred, true, conf) if x[2] > conf_thresh_lower and x[2] <= conf_thresh_upper]\n",
    "    if len(filtered_tuples) < 1:\n",
    "        return 0,0,0\n",
    "    else:\n",
    "        correct = len([x for x in filtered_tuples if x[0] == x[1]])\n",
    "        avg_conf = sum([x[2] for x in filtered_tuples]) / len(filtered_tuples)\n",
    "        accuracy = float(correct)/len(filtered_tuples)\n",
    "        perc_of_data = float(len(filtered_tuples))/len(conf)\n",
    "        return accuracy, perc_of_data, avg_conf"
   ]
  },
  {
   "cell_type": "code",
   "execution_count": 44,
   "metadata": {},
   "outputs": [
    {
     "ename": "AttributeError",
     "evalue": "'dict' object has no attribute 'iteritems'",
     "output_type": "error",
     "traceback": [
      "\u001b[1;31m---------------------------------------------------------------------------\u001b[0m",
      "\u001b[1;31mAttributeError\u001b[0m                            Traceback (most recent call last)",
      "\u001b[1;32m<ipython-input-44-eaf8a22465ab>\u001b[0m in \u001b[0;36m<module>\u001b[1;34m()\u001b[0m\n\u001b[1;32m----> 1\u001b[1;33m \u001b[0mreliability_diagrams\u001b[0m\u001b[1;33m(\u001b[0m\u001b[0mpredictions\u001b[0m\u001b[1;33m=\u001b[0m\u001b[0my_preds\u001b[0m\u001b[1;33m,\u001b[0m \u001b[0mtruths\u001b[0m\u001b[1;33m=\u001b[0m\u001b[0my_true\u001b[0m\u001b[1;33m,\u001b[0m \u001b[0mconfidences\u001b[0m\u001b[1;33m=\u001b[0m\u001b[0my_confs\u001b[0m\u001b[1;33m,\u001b[0m \u001b[0mbin_size\u001b[0m\u001b[1;33m=\u001b[0m\u001b[1;36m0.1\u001b[0m\u001b[1;33m,\u001b[0m \u001b[0mn_boot\u001b[0m\u001b[1;33m=\u001b[0m\u001b[1;36m1000\u001b[0m\u001b[1;33m)\u001b[0m\u001b[1;33m\u001b[0m\u001b[0m\n\u001b[0m",
      "\u001b[1;32m<ipython-input-43-d0d9e5372234>\u001b[0m in \u001b[0;36mreliability_diagrams\u001b[1;34m(predictions, truths, confidences, bin_size, n_boot)\u001b[0m\n\u001b[0;32m     43\u001b[0m     \u001b[0mupper_bound_to_bootstrap_upper_bar\u001b[0m \u001b[1;33m=\u001b[0m \u001b[1;33m{\u001b[0m\u001b[1;33m}\u001b[0m\u001b[1;33m\u001b[0m\u001b[0m\n\u001b[0;32m     44\u001b[0m     \u001b[0mupper_bound_to_bootstrap_lower_bar\u001b[0m \u001b[1;33m=\u001b[0m \u001b[1;33m{\u001b[0m\u001b[1;33m}\u001b[0m\u001b[1;33m\u001b[0m\u001b[0m\n\u001b[1;32m---> 45\u001b[1;33m     \u001b[1;32mfor\u001b[0m \u001b[0mupper_bound\u001b[0m\u001b[1;33m,\u001b[0m \u001b[0mfreqs\u001b[0m \u001b[1;32min\u001b[0m \u001b[0mupper_bound_to_bootstrap_est\u001b[0m\u001b[1;33m.\u001b[0m\u001b[0miteritems\u001b[0m\u001b[1;33m(\u001b[0m\u001b[1;33m)\u001b[0m\u001b[1;33m:\u001b[0m\u001b[1;33m\u001b[0m\u001b[0m\n\u001b[0m\u001b[0;32m     46\u001b[0m         \u001b[0mtop_95_quintile_i\u001b[0m \u001b[1;33m=\u001b[0m \u001b[0mint\u001b[0m\u001b[1;33m(\u001b[0m\u001b[1;36m0.975\u001b[0m \u001b[1;33m*\u001b[0m \u001b[0mlen\u001b[0m\u001b[1;33m(\u001b[0m\u001b[0mfreqs\u001b[0m\u001b[1;33m)\u001b[0m\u001b[1;33m)\u001b[0m\u001b[1;33m\u001b[0m\u001b[0m\n\u001b[0;32m     47\u001b[0m         \u001b[0mlower_5_quintile_i\u001b[0m \u001b[1;33m=\u001b[0m \u001b[0mint\u001b[0m\u001b[1;33m(\u001b[0m\u001b[1;36m0.025\u001b[0m \u001b[1;33m*\u001b[0m \u001b[0mlen\u001b[0m\u001b[1;33m(\u001b[0m\u001b[0mfreqs\u001b[0m\u001b[1;33m)\u001b[0m\u001b[1;33m)\u001b[0m\u001b[1;33m\u001b[0m\u001b[0m\n",
      "\u001b[1;31mAttributeError\u001b[0m: 'dict' object has no attribute 'iteritems'"
     ]
    }
   ],
   "source": [
    "reliability_diagrams(predictions=y_preds, truths=y_true, confidences=y_confs, bin_size=0.1, n_boot=1000)"
   ]
  },
  {
   "cell_type": "code",
   "execution_count": 58,
   "metadata": {},
   "outputs": [
    {
     "data": {
      "image/png": "[encoded data removed]",
      "text/plain": [
       "<matplotlib.figure.Figure at 0x1f2b809e208>"
      ]
     },
     "metadata": {},
     "output_type": "display_data"
    }
   ],
   "source": [
    "sns.distplot(y_confs, hist=True, bins=10)\n",
    "plt.show()"
   ]
  },
  {
   "cell_type": "code",
   "execution_count": 51,
   "metadata": {},
   "outputs": [
    {
     "data": {
      "text/plain": [
       "[0,\n",
       " 0,\n",
       " 0,\n",
       " 0.14285714285714285,\n",
       " 0.3,\n",
       " 0.3894736842105263,\n",
       " 0.5517241379310345,\n",
       " 0.5242718446601942,\n",
       " 0.5517241379310345,\n",
       " 0.9595778364116095]"
      ]
     },
     "execution_count": 51,
     "metadata": {},
     "output_type": "execute_result"
    }
   ],
   "source": [
    "accs"
   ]
  },
  {
   "cell_type": "code",
   "execution_count": 52,
   "metadata": {},
   "outputs": [
    {
     "data": {
      "text/plain": [
       "[0,\n",
       " 0,\n",
       " 0,\n",
       " 0.3550005682877132,\n",
       " 0.4638959715763728,\n",
       " 0.55478675114481069,\n",
       " 0.64737404985674496,\n",
       " 0.74964245256868378,\n",
       " 0.8534404128447346,\n",
       " 0.99738939514889879]"
      ]
     },
     "execution_count": 52,
     "metadata": {},
     "output_type": "execute_result"
    }
   ],
   "source": [
    "confs"
   ]
  },
  {
   "cell_type": "code",
   "execution_count": 17,
   "metadata": {
    "collapsed": true
   },
   "outputs": [],
   "source": [
    "# Computes accuracy for bin\n",
    "\n",
    "def compute_acc_bin(conf_thresh_lower, conf_thresh_upper, conf, pred, true):\n",
    "\n",
    "    filtered_tuples = [x for x in zip(pred, true, conf) if x[2] > conf_thresh_lower and x[2] <= conf_thresh_upper]\n",
    "    if len(filtered_tuples) < 1:\n",
    "        return 0,0,0\n",
    "    else:\n",
    "        correct = len([x for x in filtered_tuples if x[0] == x[1]])  # How many correct labels\n",
    "        len_bin = len(filtered_tuples)  # How many elements falls into given bin\n",
    "        avg_conf = sum([x[2] for x in filtered_tuples]) / len_bin  # Avg confidence of BIN\n",
    "        accuracy = float(correct)/len_bin  # accuracy of BIN\n",
    "        return accuracy, avg_conf, len_bin\n",
    "    \n",
    "def ECE(conf, pred, true, bin_size = 0.1):\n",
    "    \n",
    "    upper_bounds = np.arange(bin_size, 1+bin_size, bin_size)  # Get bounds of bins\n",
    "    \n",
    "    n = len(conf)\n",
    "    ece = 0  # Starting error\n",
    "    \n",
    "    for conf_thresh in upper_bounds:  # Go through bounds and find accuracies and confidences\n",
    "        acc, avg_conf, len_bin = compute_acc_bin(conf_thresh-bin_size, conf_thresh, y_confs, y_preds, y_true)        \n",
    "        ece += np.abs(acc-avg_conf)*len_bin/n  # Add weigthed difference to ECE\n",
    "        \n",
    "    return ece\n",
    "        \n",
    "    \n",
    "def MCE(conf, pred, true, bin_size = 0.1):\n",
    "    \n",
    "    upper_bounds = np.arange(bin_size, 1+bin_size, bin_size)\n",
    "    \n",
    "    cal_errors = []\n",
    "    \n",
    "    for conf_thresh in upper_bounds:\n",
    "        acc, avg_conf, _ = compute_acc_bin(conf_thresh-bin_size, conf_thresh, y_confs, y_preds, y_true)\n",
    "        cal_errors.append(np.abs(acc-avg_conf))\n",
    "        \n",
    "    print(cal_errors)\n",
    "        \n",
    "    return max(cal_errors)"
   ]
  },
  {
   "cell_type": "code",
   "execution_count": 18,
   "metadata": {},
   "outputs": [
    {
     "data": {
      "text/plain": [
       "0.18365866780281065"
      ]
     },
     "execution_count": 18,
     "metadata": {},
     "output_type": "execute_result"
    }
   ],
   "source": [
    "ECE(y_confs, y_preds, y_true, bin_size = 1/15)  # M = 15, 15 bins."
   ]
  },
  {
   "cell_type": "code",
   "execution_count": 19,
   "metadata": {},
   "outputs": [
    {
     "name": "stdout",
     "output_type": "stream",
     "text": [
      "[0, 0, 0, 0, 0.32429389655590057, 0.37143106758594513, 0, 0.11780028343200677, 0.45205843448638916, 0.13207954168319702, 0.36521323521931964, 0.21232682466506958, 0.85775023698806763, 0.70505123138427739, 0.12570488609765706]\n"
     ]
    },
    {
     "data": {
      "text/plain": [
       "0.85775023698806763"
      ]
     },
     "execution_count": 19,
     "metadata": {},
     "output_type": "execute_result"
    }
   ],
   "source": [
    "MCE(y_confs, y_preds, y_true, bin_size = 1/15)"
   ]
  },
  {
   "cell_type": "markdown",
   "metadata": {},
   "source": [
    "<table style=\"width:100%\">\n",
    "  <tr>\n",
    "    <th>ResNet 110 CIFAR-10</th>\n",
    "    <th>Paper</th>\n",
    "    <th>Replicated</th> \n",
    "  </tr>\n",
    "  <tr>\n",
    "    <td>Test ERROR</td>\n",
    "    <td>6.21%</td> \n",
    "    <td>6.47%</td>\n",
    "  </tr>\n",
    "  <tr>\n",
    "    <td>ECE</td>\n",
    "    <td>4.6%</td> \n",
    "    <td>4.67%</td>\n",
    "  </tr>\n",
    "  <tr>\n",
    "    <td>MCE</td>\n",
    "    <td>33.78%</td> \n",
    "    <td>33.19%</td>\n",
    "  </tr>\n",
    "</table>"
   ]
  },
  {
   "cell_type": "code",
   "execution_count": null,
   "metadata": {
    "collapsed": true
   },
   "outputs": [],
   "source": []
  }
 ],
 "metadata": {
  "kernelspec": {
   "display_name": "Python 3",
   "language": "python",
   "name": "python3"
  },
  "language_info": {
   "codemirror_mode": {
    "name": "ipython",
    "version": 3
   },
   "file_extension": ".py",
   "mimetype": "text/x-python",
   "name": "python",
   "nbconvert_exporter": "python",
   "pygments_lexer": "ipython3",
   "version": "3.6.1"
  }
 },
 "nbformat": 4,
 "nbformat_minor": 2
}
